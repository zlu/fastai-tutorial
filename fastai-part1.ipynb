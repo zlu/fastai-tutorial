{
 "cells": [
  {
   "cell_type": "markdown",
   "metadata": {},
   "source": [
    "# The Missing Bits - Easing into fastai and PyTorch - Part 1\n",
    "\n",
    "## Introduction\n",
    "Fastai is a popular Machine Learning library built on top of PyTorch.\n",
    "For some, it is a pure blessing, as it undertakes the tedious setup and heavy-lifting\n",
    "of boilerplates work.  For some though, it is a blessing in heavy disguise because:\n",
    "1. There are a lot of logic behind a seemingly simple statement, which can be unintuitive to understand.\n",
    "2. The naming of variables do not make much sense unless one understands the technical concepts behind it.\n",
    "3. The shortcuts in naming can make an unfamiliar concept even more cryptic.\n",
    "\n",
    "One can certainly memorize how a model is defined, even a simple workflow of training and\n",
    "makinng predictions.  But the fun stops here.  As soon as the problem at hand exihibits \n",
    "any uniqueness, mimicking an existing example will no longer make the cut.  When errors\n",
    "occur, which comes at a 100% possibility in programming, it will be hard to correct.\n",
    "\n",
    "In this series, I'll try to unpack things for the reader in the hope that most concepts will become more clearer.\n",
    "\n",
    "## Local Environment Setup\n",
    "Yes I recommend a local environment for playing around with code.  Of course, we should also get\n",
    "a free Google Colab account for heavy-lifting but it is _always_ good to have something you can \n",
    "look around and poke around even without Internet.\n",
    "\n",
    "Let me share my personal setup - a still good but old Mackbook Pro M1.\n",
    "\n",
    "Apple Silicon (M1/M2) has limited support for CUDA (which is NVIDIA-specific), but PyTorch provides native MPS (Metal Performance Shaders) backend for GPU acceleration on M1.\n",
    "- As of PyTorch 1.12+, MPS backend supports training on M1/M2 GPUs.        \n",
    "- fastai works fine on top of this once PyTorch is configured.\n",
    "\n",
    "Limitations of M1 GPU with PyTorch\n",
    "- MPS is still experimental, so not all features are supported.\n",
    "- Some operations might fall back to CPU.\n",
    "- Memory usage is more constrained than a full discrete GPU.\n",
    "\n",
    "So use Colab if:\n",
    "- You're training large models like ResNet50, ViT, LLMs.\n",
    "- You need CUDA-only operations.\n",
    "- You want to leverage high-end GPUs for free.\n",
    "\n",
    "### Installation Steps for Local Setup on M1\n",
    "Use a Conda environment (miniforge or miniforge3 is preferred over Anaconda on ARM-based Macs):\n",
    "\n",
    "- Step 1: Install miniforge (if not installed)\n",
    "\t- Go to https://github.com/conda-forge/miniforge and install miniforge3 for ARM64\n",
    "- Step 2: Create environment\n",
    "\t- conda create -n fastai-m1 python=3.10\n",
    "\t- conda activate fastai-m1\n",
    "- Step 3: Install PyTorch with MPS support\n",
    "pip install torch torchvision torchaudio --index-url https://download.pytorch.org/whl/nightly/cpu\n",
    "\n",
    "- NOTE: You can also try the MPS backend if you're on macOS 12.3+:\n",
    " - pip install torch torchvision torchaudio\n",
    "- Step 4: Test if MPS is available:\n",
    "\t- python -c \"import torch; print(torch.backends.mps.is_available())\"\n",
    "- Step 5: Install fastai\n",
    "\t- pip install fastai"
   ]
  },
  {
   "cell_type": "code",
   "execution_count": 2,
   "metadata": {},
   "outputs": [
    {
     "name": "stdout",
     "output_type": "stream",
     "text": [
      "MPS available: True\n",
      "MPS built: True\n"
     ]
    }
   ],
   "source": [
    "# Another way is to verify the setup with python code\n",
    "import torch\n",
    "print(\"MPS available:\", torch.backends.mps.is_available())\n",
    "print(\"MPS built:\", torch.backends.mps.is_built())"
   ]
  },
  {
   "cell_type": "code",
   "execution_count": 3,
   "metadata": {},
   "outputs": [
    {
     "name": "stdout",
     "output_type": "stream",
     "text": [
      "Main path: /Users/zlu/.fastai/data/mnist_sample\n",
      "\n",
      "Subdirectories:\n",
      "mnist_sample/\n",
      "    labels.csv\n",
      "  valid/\n",
      "    7/\n",
      "    3/\n",
      "  train/\n",
      "    7/\n",
      "    3/\n"
     ]
    }
   ],
   "source": [
    "# Train a small toy model\n",
    "from fastai.vision.all import *\n",
    "\n",
    "# load the famous mnist (hand-writing recogonition) dataset\n",
    "# each image is a hand-writing number, such as 0, 1, 2, 3.\n",
    "# dataset is stored in a director structure containing validation set (under mnist_sample/valid)\n",
    "# and training set (under mnist_sample/train)\n",
    "# the subdirectories 3/ contains images of digit 3; and 7/ contains images of digit 7\n",
    "# This is a common format for image classification tasks, where each class (in this case, each digit) \n",
    "# has its own directory containing the images belonging to that class. The model will learn to \n",
    "# distinguish between these two digits (3 and 7) during training.\n",
    "path = untar_data(URLs.MNIST_SAMPLE)\n",
    "print(\"Main path:\", path)\n",
    "print(\"\\nSubdirectories:\")\n",
    "for root, dirs, files in os.walk(path):\n",
    "    level = root.replace(str(path), '').count(os.sep)\n",
    "    indent = ' ' * 2 * level\n",
    "    print(f\"{indent}{os.path.basename(root)}/\")\n",
    "    if level == 0:  # Only show files in root directory\n",
    "        for f in files:\n",
    "            print(f\"{indent}    {f}\")"
   ]
  },
  {
   "cell_type": "code",
   "execution_count": 4,
   "metadata": {},
   "outputs": [
    {
     "name": "stdout",
     "output_type": "stream",
     "text": [
      "\n",
      "labels (first 5 rows):\n",
      "                name  label\n",
      "0   train/3/7463.png      0\n",
      "1  train/3/21102.png      0\n",
      "2  train/3/31559.png      0\n",
      "3  train/3/46882.png      0\n",
      "4  train/3/26209.png      0\n"
     ]
    }
   ],
   "source": [
    "import pandas as pd\n",
    "# Peak into the label data\n",
    "labels_df = pd.read_csv(path/'labels.csv')\n",
    "print(\"\\nlabels (first 5 rows):\")\n",
    "print(labels_df.head())"
   ]
  },
  {
   "cell_type": "code",
   "execution_count": 5,
   "metadata": {},
   "outputs": [
    {
     "name": "stdout",
     "output_type": "stream",
     "text": [
      "This is a handwritten digit 7\n"
     ]
    },
    {
     "data": {
      "image/png": "[encoded data removed]",
      "text/plain": [
       "<Figure size 100x100 with 1 Axes>"
      ]
     },
     "metadata": {},
     "output_type": "display_data"
    }
   ],
   "source": [
    "# Get a random image from the training set\n",
    "train_path = path/'train'\n",
    "img_files = list((train_path/'7').ls())\n",
    "\n",
    "# Python Imaging Library (PIL) is a library for opening, manipulating, and saving many different image file formats.  \n",
    "# A fork of it called Pillow is often used.  PIL comes with our import of fastai.vision.all.\n",
    "img = PILImage.create(img_files[0])\n",
    "print(f\"This is a handwritten digit 7\")\n",
    "img.show(); \n",
    "# without this semi-colon, \"<Axes: >\" will also be printed out.  This comes from matplotlib, which is what PIL uses under the hood to display images.  It is the default axes object that was created for the plot."
   ]
  },
  {
   "cell_type": "code",
   "execution_count": 6,
   "metadata": {},
   "outputs": [],
   "source": [
    "dls = ImageDataLoaders.from_folder(path, valid='valid')"
   ]
  },
  {
   "cell_type": "markdown",
   "metadata": {},
   "source": [
    "dls stands for DataLoaders.\n",
    "\t•\tIt's a wrapper around two PyTorch DataLoaders:\n",
    "\t•\tOne for training (dls.train)\n",
    "\t•\tOne for validation (dls.valid)\n",
    "\n",
    "fastai provides the .from_folder method to quickly create this from a directory structure like:\n",
    "```\n",
    "    path/\n",
    "    ├── train/\n",
    "    │   ├── 3/\n",
    "    │   ├── 7/\n",
    "    ├── valid/\n",
    "        ├── 3/\n",
    "        ├── 7/\n",
    "````"
   ]
  },
  {
   "cell_type": "code",
   "execution_count": 8,
   "metadata": {},
   "outputs": [
    {
     "data": {
      "text/html": [
       "\n",
       "<style>\n",
       "    /* Turns off some styling */\n",
       "    progress {\n",
       "        /* gets rid of default border in Firefox and Opera. */\n",
       "        border: none;\n",
       "        /* Needs to be in here for Safari polyfill so background images work as expected. */\n",
       "        background-size: auto;\n",
       "    }\n",
       "    progress:not([value]), progress:not([value])::-webkit-progress-bar {\n",
       "        background: repeating-linear-gradient(45deg, #7e7e7e, #7e7e7e 10px, #5c5c5c 10px, #5c5c5c 20px);\n",
       "    }\n",
       "    .progress-bar-interrupted, .progress-bar-interrupted::-webkit-progress-bar {\n",
       "        background: #F44336;\n",
       "    }\n",
       "</style>\n"
      ],
      "text/plain": [
       "<IPython.core.display.HTML object>"
      ]
     },
     "metadata": {},
     "output_type": "display_data"
    },
    {
     "data": {
      "text/html": [
       "<table border=\"1\" class=\"dataframe\">\n",
       "  <thead>\n",
       "    <tr style=\"text-align: left;\">\n",
       "      <th>epoch</th>\n",
       "      <th>train_loss</th>\n",
       "      <th>valid_loss</th>\n",
       "      <th>accuracy</th>\n",
       "      <th>time</th>\n",
       "    </tr>\n",
       "  </thead>\n",
       "  <tbody>\n",
       "    <tr>\n",
       "      <td>0</td>\n",
       "      <td>0.298345</td>\n",
       "      <td>0.176359</td>\n",
       "      <td>0.934740</td>\n",
       "      <td>00:13</td>\n",
       "    </tr>\n",
       "  </tbody>\n",
       "</table>"
      ],
      "text/plain": [
       "<IPython.core.display.HTML object>"
      ]
     },
     "metadata": {},
     "output_type": "display_data"
    },
    {
     "data": {
      "text/html": [
       "\n",
       "<style>\n",
       "    /* Turns off some styling */\n",
       "    progress {\n",
       "        /* gets rid of default border in Firefox and Opera. */\n",
       "        border: none;\n",
       "        /* Needs to be in here for Safari polyfill so background images work as expected. */\n",
       "        background-size: auto;\n",
       "    }\n",
       "    progress:not([value]), progress:not([value])::-webkit-progress-bar {\n",
       "        background: repeating-linear-gradient(45deg, #7e7e7e, #7e7e7e 10px, #5c5c5c 10px, #5c5c5c 20px);\n",
       "    }\n",
       "    .progress-bar-interrupted, .progress-bar-interrupted::-webkit-progress-bar {\n",
       "        background: #F44336;\n",
       "    }\n",
       "</style>\n"
      ],
      "text/plain": [
       "<IPython.core.display.HTML object>"
      ]
     },
     "metadata": {},
     "output_type": "display_data"
    },
    {
     "data": {
      "text/html": [
       "<table border=\"1\" class=\"dataframe\">\n",
       "  <thead>\n",
       "    <tr style=\"text-align: left;\">\n",
       "      <th>epoch</th>\n",
       "      <th>train_loss</th>\n",
       "      <th>valid_loss</th>\n",
       "      <th>accuracy</th>\n",
       "      <th>time</th>\n",
       "    </tr>\n",
       "  </thead>\n",
       "  <tbody>\n",
       "    <tr>\n",
       "      <td>0</td>\n",
       "      <td>0.055849</td>\n",
       "      <td>0.031771</td>\n",
       "      <td>0.989205</td>\n",
       "      <td>00:14</td>\n",
       "    </tr>\n",
       "  </tbody>\n",
       "</table>"
      ],
      "text/plain": [
       "<IPython.core.display.HTML object>"
      ]
     },
     "metadata": {},
     "output_type": "display_data"
    }
   ],
   "source": [
    "learn = vision_learner(dls, resnet18, metrics=accuracy)\n",
    "learn.fine_tune(1) # 1 means to train for only 1 epoch (a complete pass through the entire training dataset)"
   ]
  },
  {
   "cell_type": "markdown",
   "metadata": {},
   "source": [
    "ResNet\n",
    "ResNet-18 from Deep Residual Learning for Image Recognition <https://arxiv.org/abs/1512.03385>.\n",
    "ResNet18 is a pre-trained model that was originally trained on ImageNet, which contains 1000 different classes of general images.\n",
    "\n",
    "The fine_tune() method is a fastai convenience method that implements a specific training strategy:\n",
    "1. It first freezes the pre-trained layers and trains only the new classification head\n",
    "2. Then it unfreezes all layers and trains the entire model\n",
    "3. It automatically adjusts learning rates and other training parameters\n",
    "This is why it's called \"fine-tuning\" - we're taking a pre-trained model (ResNet18) \n",
    "and adapting it to our specific task (recognizing handwritten digits 3 and 7).\n",
    "\n",
    "'head'\n",
    "In the context of deep learning and transfer learning, the \"head\" refers to the final layers \n",
    "of a neural network that are responsible for making the specific predictions for your task.\n",
    "\n",
    "In this case:\n",
    "ResNet18 is a pre-trained model that was originally trained on ImageNet (a large dataset of general images)\n",
    "The \"head\" is the new classification layer(s) that we add on top of ResNet18 to make it work for our specific task (classifying digits 3 and 7)\n",
    "\n",
    "Think of it like this:\n",
    "\n",
    "The main body of ResNet18 (the \"backbone\") has learned to extract useful features from images\n",
    "The \"head\" is like a new brain that we add on top to interpret these features for our specific task\n",
    "\n",
    "When we say \"train only the new classification head\", we mean:\n",
    "Keep all the pre-trained ResNet18 layers frozen (unchanged)\n",
    "Only train the new final layers that we added to classify our digits\n",
    "\n",
    "This is a common transfer learning strategy because:\n",
    "The pre-trained backbone already knows how to extract useful features from images\n",
    "We only need to train the head to interpret these features for our specific task\n",
    "This is much faster and requires less data than training the entire network from scratch"
   ]
  },
  {
   "cell_type": "code",
   "execution_count": 9,
   "metadata": {},
   "outputs": [
    {
     "data": {
      "text/html": [
       "\n",
       "<style>\n",
       "    /* Turns off some styling */\n",
       "    progress {\n",
       "        /* gets rid of default border in Firefox and Opera. */\n",
       "        border: none;\n",
       "        /* Needs to be in here for Safari polyfill so background images work as expected. */\n",
       "        background-size: auto;\n",
       "    }\n",
       "    progress:not([value]), progress:not([value])::-webkit-progress-bar {\n",
       "        background: repeating-linear-gradient(45deg, #7e7e7e, #7e7e7e 10px, #5c5c5c 10px, #5c5c5c 20px);\n",
       "    }\n",
       "    .progress-bar-interrupted, .progress-bar-interrupted::-webkit-progress-bar {\n",
       "        background: #F44336;\n",
       "    }\n",
       "</style>\n"
      ],
      "text/plain": [
       "<IPython.core.display.HTML object>"
      ]
     },
     "metadata": {},
     "output_type": "display_data"
    },
    {
     "data": {
      "text/html": [],
      "text/plain": [
       "<IPython.core.display.HTML object>"
      ]
     },
     "metadata": {},
     "output_type": "display_data"
    },
    {
     "data": {
      "image/png": "[encoded data removed]",
      "text/plain": [
       "<Figure size 400x400 with 6 Axes>"
      ]
     },
     "metadata": {},
     "output_type": "display_data"
    }
   ],
   "source": [
    "learn.show_results(max_n=6, figsize=(4, 4))"
   ]
  },
  {
   "cell_type": "markdown",
   "metadata": {},
   "source": [
    "On top of each number image, there are two green numbers.  The first is actual value (of the hand-written number), the 2nd is predicted value.  \n",
    "\n",
    "## Summary\n",
    "\n",
    "In this tutorial, we've covered:\n",
    "- How to set up a local environment for fastai\n",
    "- How to load and preprocess the MNIST dataset\n",
    "- How to build a simple image classification model\n",
    "- How to train and evaluate the model\n",
    "- How to make predictions with the trained model\n",
    "\n",
    "In the next tutorial, we'll explore some more complex topics.  Stay tuned and happy Saturday."
   ]
  }
 ],
 "metadata": {
  "kernelspec": {
   "display_name": "ml_study",
   "language": "python",
   "name": "python3"
  },
  "language_info": {
   "codemirror_mode": {
    "name": "ipython",
    "version": 3
   },
   "file_extension": ".py",
   "mimetype": "text/x-python",
   "name": "python",
   "nbconvert_exporter": "python",
   "pygments_lexer": "ipython3",
   "version": "3.12.9"
  }
 },
 "nbformat": 4,
 "nbformat_minor": 4
}
