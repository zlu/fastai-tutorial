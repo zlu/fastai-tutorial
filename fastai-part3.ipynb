{
 "cells": [
  {
   "cell_type": "markdown",
   "id": "144d60a4",
   "metadata": {
    "papermill": {
     "duration": 0.006191,
     "end_time": "2025-05-30T11:41:16.831245",
     "exception": false,
     "start_time": "2025-05-30T11:41:16.825054",
     "status": "completed"
    },
    "tags": []
   },
   "source": [
    "In fastai part 1 we looked at how to categorize MNIST dataset.  In this tutorial, we will dive a bit deeper to see what happens under the hood.  First, we will take a deeper look at the MNIST dataset.\n",
    "\n",
    "## Data Exploration"
   ]
  },
  {
   "cell_type": "code",
   "execution_count": 1,
   "id": "ff9cb0b6",
   "metadata": {
    "execution": {
     "iopub.execute_input": "2025-05-30T11:41:16.843708Z",
     "iopub.status.busy": "2025-05-30T11:41:16.843268Z",
     "iopub.status.idle": "2025-05-30T11:41:43.231017Z",
     "shell.execute_reply": "2025-05-30T11:41:43.229955Z"
    },
    "papermill": {
     "duration": 26.395931,
     "end_time": "2025-05-30T11:41:43.232823",
     "exception": false,
     "start_time": "2025-05-30T11:41:16.836892",
     "status": "completed"
    },
    "tags": []
   },
   "outputs": [
    {
     "data": {
      "text/html": [
       "\n",
       "<style>\n",
       "    /* Turns off some styling */\n",
       "    progress {\n",
       "        /* gets rid of default border in Firefox and Opera. */\n",
       "        border: none;\n",
       "        /* Needs to be in here for Safari polyfill so background images work as expected. */\n",
       "        background-size: auto;\n",
       "    }\n",
       "    progress:not([value]), progress:not([value])::-webkit-progress-bar {\n",
       "        background: repeating-linear-gradient(45deg, #7e7e7e, #7e7e7e 10px, #5c5c5c 10px, #5c5c5c 20px);\n",
       "    }\n",
       "    .progress-bar-interrupted, .progress-bar-interrupted::-webkit-progress-bar {\n",
       "        background: #F44336;\n",
       "    }\n",
       "</style>\n"
      ],
      "text/plain": [
       "<IPython.core.display.HTML object>"
      ]
     },
     "metadata": {},
     "output_type": "display_data"
    },
    {
     "data": {
      "text/html": [
       "\n",
       "    <div>\n",
       "      <progress value='3219456' class='' max='3214948' style='width:300px; height:20px; vertical-align: middle;'></progress>\n",
       "      100.14% [3219456/3214948 00:00&lt;00:00]\n",
       "    </div>\n",
       "    "
      ],
      "text/plain": [
       "<IPython.core.display.HTML object>"
      ]
     },
     "metadata": {},
     "output_type": "display_data"
    },
    {
     "data": {
      "image/png": "[encoded data removed]",
      "text/plain": [
       "<Figure size 100x100 with 1 Axes>"
      ]
     },
     "metadata": {},
     "output_type": "display_data"
    }
   ],
   "source": [
    "# code from part 1\n",
    "import torch\n",
    "import random\n",
    "from fastai.vision.all import *\n",
    "\n",
    "# download the simple MNIST data set (not the full dataset yet, which we will do later)\n",
    "path = untar_data(URLs.MNIST_SAMPLE)\n",
    "train_path = path/'train'\n",
    "img_files = list((train_path/'7').ls())\n",
    "img = PILImage.create(img_files[0])\n",
    "img.show();"
   ]
  },
  {
   "cell_type": "code",
   "execution_count": 2,
   "id": "c2705edf",
   "metadata": {
    "execution": {
     "iopub.execute_input": "2025-05-30T11:41:43.246601Z",
     "iopub.status.busy": "2025-05-30T11:41:43.245999Z",
     "iopub.status.idle": "2025-05-30T11:41:43.252480Z",
     "shell.execute_reply": "2025-05-30T11:41:43.251358Z"
    },
    "papermill": {
     "duration": 0.014812,
     "end_time": "2025-05-30T11:41:43.254220",
     "exception": false,
     "start_time": "2025-05-30T11:41:43.239408",
     "status": "completed"
    },
    "tags": []
   },
   "outputs": [
    {
     "name": "stdout",
     "output_type": "stream",
     "text": [
      "Image mode is: RGB\n"
     ]
    }
   ],
   "source": [
    "print(f\"Image mode is: {img.mode}\")"
   ]
  },
  {
   "cell_type": "markdown",
   "id": "83a68879",
   "metadata": {
    "papermill": {
     "duration": 0.005409,
     "end_time": "2025-05-30T11:41:43.265871",
     "exception": false,
     "start_time": "2025-05-30T11:41:43.260462",
     "status": "completed"
    },
    "tags": []
   },
   "source": [
    "MNIST images are grayscale (single channel).  When created by PILImage, they are converted to RGB, likely for model compatibility.  This is why as the print out shown above, the mode of the image is now RGB.  Grayscale image would have shown a \"L\" (1 channel), as opposed to RGB (3 channels).  If you want to keep the image as grayscale, you can use the following code:\n",
    "```python\n",
    "img = PILImage.create(img_files[0])\n",
    "img.show();\n",
    "print(f\"Image mode is: {img.mode}\")\n",
    "```"
   ]
  },
  {
   "cell_type": "code",
   "execution_count": 3,
   "id": "fb0c347d",
   "metadata": {
    "execution": {
     "iopub.execute_input": "2025-05-30T11:41:43.279159Z",
     "iopub.status.busy": "2025-05-30T11:41:43.278180Z",
     "iopub.status.idle": "2025-05-30T11:41:43.283506Z",
     "shell.execute_reply": "2025-05-30T11:41:43.282448Z"
    },
    "papermill": {
     "duration": 0.01343,
     "end_time": "2025-05-30T11:41:43.285027",
     "exception": false,
     "start_time": "2025-05-30T11:41:43.271597",
     "status": "completed"
    },
    "tags": []
   },
   "outputs": [
    {
     "name": "stdout",
     "output_type": "stream",
     "text": [
      "(28, 28, 3)\n"
     ]
    }
   ],
   "source": [
    "arr = array(img)\n",
    "print(arr.shape)"
   ]
  },
  {
   "cell_type": "markdown",
   "id": "6f69284c",
   "metadata": {
    "papermill": {
     "duration": 0.005449,
     "end_time": "2025-05-30T11:41:43.296342",
     "exception": false,
     "start_time": "2025-05-30T11:41:43.290893",
     "status": "completed"
    },
    "tags": []
   },
   "source": [
    "(28, 28, 3) is a 3D NumPy array of height, width, and channel.  It has a size of 28x28 pixels.  '3' means the RGB channels and they are likely have the same values as the image is grayscale."
   ]
  },
  {
   "cell_type": "code",
   "execution_count": 4,
   "id": "bc78a703",
   "metadata": {
    "execution": {
     "iopub.execute_input": "2025-05-30T11:41:43.309405Z",
     "iopub.status.busy": "2025-05-30T11:41:43.308570Z",
     "iopub.status.idle": "2025-05-30T11:41:43.314250Z",
     "shell.execute_reply": "2025-05-30T11:41:43.313217Z"
    },
    "papermill": {
     "duration": 0.013704,
     "end_time": "2025-05-30T11:41:43.315787",
     "exception": false,
     "start_time": "2025-05-30T11:41:43.302083",
     "status": "completed"
    },
    "tags": []
   },
   "outputs": [
    {
     "name": "stdout",
     "output_type": "stream",
     "text": [
      "[  0   3   6   7   8  12  26  27  28  32  34  41  45  50  56  59  64  67\n",
      "  76  82  83  84  86  96  99 103 105 109 117 124 127 131 135 146 154 156\n",
      " 159 167 176 179 180 182 184 188 196 197 198 201 207 212 214 217 220 233\n",
      " 239 241 245 248 249 250 251 252 253 255]\n"
     ]
    }
   ],
   "source": [
    "print(np.unique(arr))"
   ]
  },
  {
   "cell_type": "markdown",
   "id": "170da1c6",
   "metadata": {
    "papermill": {
     "duration": 0.005709,
     "end_time": "2025-05-30T11:41:43.327444",
     "exception": false,
     "start_time": "2025-05-30T11:41:43.321735",
     "status": "completed"
    },
    "tags": []
   },
   "source": [
    "`np.unique(arr)` gives a range of values showing that these pixel values span from 0 to 255.  '0' is black and '255' is white.  The values in between are shades of gray."
   ]
  },
  {
   "cell_type": "code",
   "execution_count": 5,
   "id": "670d7745",
   "metadata": {
    "execution": {
     "iopub.execute_input": "2025-05-30T11:41:43.341461Z",
     "iopub.status.busy": "2025-05-30T11:41:43.341091Z",
     "iopub.status.idle": "2025-05-30T11:41:43.347895Z",
     "shell.execute_reply": "2025-05-30T11:41:43.346988Z"
    },
    "papermill": {
     "duration": 0.016069,
     "end_time": "2025-05-30T11:41:43.349250",
     "exception": false,
     "start_time": "2025-05-30T11:41:43.333181",
     "status": "completed"
    },
    "tags": []
   },
   "outputs": [
    {
     "data": {
      "text/plain": [
       "True"
      ]
     },
     "execution_count": 5,
     "metadata": {},
     "output_type": "execute_result"
    }
   ],
   "source": [
    "np.all(arr[:, :, 0] == arr[:, :, 1]) and np.all(arr[:, :, 1] == arr[:, :, 2])"
   ]
  },
  {
   "cell_type": "markdown",
   "id": "5781d72e",
   "metadata": {
    "papermill": {
     "duration": 0.00564,
     "end_time": "2025-05-30T11:41:43.360859",
     "exception": false,
     "start_time": "2025-05-30T11:41:43.355219",
     "status": "completed"
    },
    "tags": []
   },
   "source": [
    "The code above checks if the pixel values are the same for all three channels.  Since the image is grayscale, the values are the same hence np.True"
   ]
  },
  {
   "cell_type": "code",
   "execution_count": 6,
   "id": "1ce47283",
   "metadata": {
    "execution": {
     "iopub.execute_input": "2025-05-30T11:41:43.373790Z",
     "iopub.status.busy": "2025-05-30T11:41:43.373438Z",
     "iopub.status.idle": "2025-05-30T11:41:43.669878Z",
     "shell.execute_reply": "2025-05-30T11:41:43.668880Z"
    },
    "papermill": {
     "duration": 0.30558,
     "end_time": "2025-05-30T11:41:43.672185",
     "exception": false,
     "start_time": "2025-05-30T11:41:43.366605",
     "status": "completed"
    },
    "tags": []
   },
   "outputs": [
    {
     "name": "stdout",
     "output_type": "stream",
     "text": [
      "torch.Size([28, 28])\n"
     ]
    },
    {
     "data": {
      "text/html": [
       "<style type=\"text/css\">\n",
       "#T_3bb60_row0_col0, #T_3bb60_row0_col1, #T_3bb60_row0_col2, #T_3bb60_row0_col3, #T_3bb60_row0_col4, #T_3bb60_row0_col5, #T_3bb60_row0_col6, #T_3bb60_row0_col7, #T_3bb60_row0_col8, #T_3bb60_row0_col9, #T_3bb60_row0_col10, #T_3bb60_row0_col11, #T_3bb60_row0_col12, #T_3bb60_row0_col13, #T_3bb60_row0_col14, #T_3bb60_row0_col15, #T_3bb60_row0_col16, #T_3bb60_row0_col17, #T_3bb60_row0_col18, #T_3bb60_row0_col19, #T_3bb60_row0_col20, #T_3bb60_row0_col21, #T_3bb60_row0_col22, #T_3bb60_row0_col23, #T_3bb60_row0_col24, #T_3bb60_row0_col25, #T_3bb60_row0_col26, #T_3bb60_row0_col27, #T_3bb60_row1_col0, #T_3bb60_row1_col1, #T_3bb60_row1_col2, #T_3bb60_row1_col3, #T_3bb60_row1_col4, #T_3bb60_row1_col5, #T_3bb60_row1_col6, #T_3bb60_row1_col7, #T_3bb60_row1_col8, #T_3bb60_row1_col9, #T_3bb60_row1_col10, #T_3bb60_row1_col11, #T_3bb60_row1_col12, #T_3bb60_row1_col13, #T_3bb60_row1_col14, #T_3bb60_row1_col15, #T_3bb60_row1_col16, #T_3bb60_row1_col17, #T_3bb60_row1_col18, #T_3bb60_row1_col19, #T_3bb60_row1_col20, #T_3bb60_row1_col21, #T_3bb60_row1_col22, #T_3bb60_row1_col23, #T_3bb60_row1_col24, #T_3bb60_row1_col25, #T_3bb60_row1_col26, #T_3bb60_row1_col27, #T_3bb60_row2_col0, #T_3bb60_row2_col1, #T_3bb60_row2_col2, #T_3bb60_row2_col3, #T_3bb60_row2_col4, #T_3bb60_row2_col5, #T_3bb60_row2_col6, #T_3bb60_row2_col7, #T_3bb60_row2_col8, #T_3bb60_row2_col9, #T_3bb60_row2_col10, #T_3bb60_row2_col11, #T_3bb60_row2_col12, #T_3bb60_row2_col13, #T_3bb60_row2_col14, #T_3bb60_row2_col15, #T_3bb60_row2_col16, #T_3bb60_row2_col17, #T_3bb60_row2_col18, #T_3bb60_row2_col19, #T_3bb60_row2_col20, #T_3bb60_row2_col21, #T_3bb60_row2_col22, #T_3bb60_row2_col23, #T_3bb60_row2_col24, #T_3bb60_row2_col25, #T_3bb60_row2_col26, #T_3bb60_row2_col27, #T_3bb60_row3_col0, #T_3bb60_row3_col1, #T_3bb60_row3_col2, #T_3bb60_row3_col3, #T_3bb60_row3_col4, #T_3bb60_row3_col5, #T_3bb60_row3_col6, #T_3bb60_row3_col7, #T_3bb60_row3_col8, #T_3bb60_row3_col9, #T_3bb60_row3_col10, #T_3bb60_row3_col11, #T_3bb60_row3_col12, #T_3bb60_row3_col13, #T_3bb60_row3_col14, #T_3bb60_row3_col15, #T_3bb60_row3_col16, #T_3bb60_row3_col17, #T_3bb60_row3_col18, #T_3bb60_row3_col19, #T_3bb60_row3_col20, #T_3bb60_row3_col21, #T_3bb60_row3_col22, #T_3bb60_row3_col23, #T_3bb60_row3_col24, #T_3bb60_row3_col25, #T_3bb60_row3_col26, #T_3bb60_row3_col27, #T_3bb60_row4_col0, #T_3bb60_row4_col1, #T_3bb60_row4_col2, #T_3bb60_row4_col3, #T_3bb60_row4_col4, #T_3bb60_row4_col5, #T_3bb60_row4_col6, #T_3bb60_row4_col7, #T_3bb60_row4_col8, #T_3bb60_row4_col9, #T_3bb60_row4_col10, #T_3bb60_row4_col11, #T_3bb60_row4_col12, #T_3bb60_row4_col13, #T_3bb60_row4_col14, #T_3bb60_row4_col15, #T_3bb60_row4_col16, #T_3bb60_row4_col17, #T_3bb60_row4_col18, #T_3bb60_row4_col19, #T_3bb60_row4_col20, #T_3bb60_row4_col21, #T_3bb60_row4_col22, #T_3bb60_row4_col23, #T_3bb60_row4_col24, #T_3bb60_row4_col25, #T_3bb60_row4_col26, #T_3bb60_row4_col27, #T_3bb60_row5_col0, #T_3bb60_row5_col1, #T_3bb60_row5_col2, #T_3bb60_row5_col3, #T_3bb60_row5_col4, #T_3bb60_row5_col5, #T_3bb60_row5_col6, #T_3bb60_row5_col7, #T_3bb60_row5_col8, #T_3bb60_row5_col9, #T_3bb60_row5_col10, #T_3bb60_row5_col11, #T_3bb60_row5_col12, #T_3bb60_row5_col13, #T_3bb60_row5_col14, #T_3bb60_row5_col15, #T_3bb60_row5_col16, #T_3bb60_row5_col17, #T_3bb60_row5_col18, #T_3bb60_row5_col19, #T_3bb60_row5_col20, #T_3bb60_row5_col21, #T_3bb60_row5_col22, #T_3bb60_row5_col23, #T_3bb60_row5_col24, #T_3bb60_row5_col25, #T_3bb60_row5_col26, #T_3bb60_row5_col27, #T_3bb60_row6_col0, #T_3bb60_row6_col1, #T_3bb60_row6_col2, #T_3bb60_row6_col3, #T_3bb60_row6_col4, #T_3bb60_row6_col5, #T_3bb60_row6_col6, #T_3bb60_row6_col7, #T_3bb60_row6_col8, #T_3bb60_row6_col9, #T_3bb60_row6_col10, #T_3bb60_row6_col11, #T_3bb60_row6_col12, #T_3bb60_row6_col13, #T_3bb60_row6_col14, #T_3bb60_row6_col15, #T_3bb60_row6_col16, #T_3bb60_row6_col17, #T_3bb60_row6_col18, #T_3bb60_row6_col19, #T_3bb60_row6_col20, #T_3bb60_row6_col21, #T_3bb60_row6_col22, #T_3bb60_row6_col23, #T_3bb60_row6_col24, #T_3bb60_row6_col25, #T_3bb60_row6_col26, #T_3bb60_row6_col27, #T_3bb60_row7_col0, #T_3bb60_row7_col1, #T_3bb60_row7_col2, #T_3bb60_row7_col3, #T_3bb60_row7_col4, #T_3bb60_row7_col5, #T_3bb60_row7_col6, #T_3bb60_row7_col7, #T_3bb60_row7_col13, #T_3bb60_row7_col14, #T_3bb60_row7_col15, #T_3bb60_row7_col16, #T_3bb60_row7_col17, #T_3bb60_row7_col18, #T_3bb60_row7_col19, #T_3bb60_row7_col22, #T_3bb60_row7_col23, #T_3bb60_row7_col24, #T_3bb60_row7_col25, #T_3bb60_row7_col26, #T_3bb60_row7_col27, #T_3bb60_row8_col0, #T_3bb60_row8_col1, #T_3bb60_row8_col2, #T_3bb60_row8_col3, #T_3bb60_row8_col4, #T_3bb60_row8_col5, #T_3bb60_row8_col6, #T_3bb60_row8_col22, #T_3bb60_row8_col23, #T_3bb60_row8_col24, #T_3bb60_row8_col25, #T_3bb60_row8_col26, #T_3bb60_row8_col27, #T_3bb60_row9_col0, #T_3bb60_row9_col1, #T_3bb60_row9_col2, #T_3bb60_row9_col3, #T_3bb60_row9_col4, #T_3bb60_row9_col5, #T_3bb60_row9_col23, #T_3bb60_row9_col24, #T_3bb60_row9_col25, #T_3bb60_row9_col26, #T_3bb60_row9_col27, #T_3bb60_row10_col0, #T_3bb60_row10_col1, #T_3bb60_row10_col2, #T_3bb60_row10_col3, #T_3bb60_row10_col4, #T_3bb60_row10_col5, #T_3bb60_row10_col23, #T_3bb60_row10_col24, #T_3bb60_row10_col25, #T_3bb60_row10_col26, #T_3bb60_row10_col27, #T_3bb60_row11_col0, #T_3bb60_row11_col1, #T_3bb60_row11_col2, #T_3bb60_row11_col3, #T_3bb60_row11_col4, #T_3bb60_row11_col5, #T_3bb60_row11_col23, #T_3bb60_row11_col24, #T_3bb60_row11_col25, #T_3bb60_row11_col26, #T_3bb60_row11_col27, #T_3bb60_row12_col0, #T_3bb60_row12_col1, #T_3bb60_row12_col2, #T_3bb60_row12_col3, #T_3bb60_row12_col4, #T_3bb60_row12_col5, #T_3bb60_row12_col23, #T_3bb60_row12_col24, #T_3bb60_row12_col25, #T_3bb60_row12_col26, #T_3bb60_row12_col27, #T_3bb60_row13_col0, #T_3bb60_row13_col1, #T_3bb60_row13_col2, #T_3bb60_row13_col3, #T_3bb60_row13_col4, #T_3bb60_row13_col5, #T_3bb60_row13_col15, #T_3bb60_row13_col22, #T_3bb60_row13_col23, #T_3bb60_row13_col24, #T_3bb60_row13_col25, #T_3bb60_row13_col26, #T_3bb60_row13_col27, #T_3bb60_row14_col0, #T_3bb60_row14_col1, #T_3bb60_row14_col2, #T_3bb60_row14_col3, #T_3bb60_row14_col4, #T_3bb60_row14_col5, #T_3bb60_row14_col10, #T_3bb60_row14_col11, #T_3bb60_row14_col12, #T_3bb60_row14_col13, #T_3bb60_row14_col14, #T_3bb60_row14_col15, #T_3bb60_row14_col21, #T_3bb60_row14_col22, #T_3bb60_row14_col23, #T_3bb60_row14_col24, #T_3bb60_row14_col25, #T_3bb60_row14_col26, #T_3bb60_row14_col27, #T_3bb60_row15_col0, #T_3bb60_row15_col1, #T_3bb60_row15_col2, #T_3bb60_row15_col3, #T_3bb60_row15_col4, #T_3bb60_row15_col5, #T_3bb60_row15_col6, #T_3bb60_row15_col7, #T_3bb60_row15_col8, #T_3bb60_row15_col9, #T_3bb60_row15_col10, #T_3bb60_row15_col11, #T_3bb60_row15_col12, #T_3bb60_row15_col13, #T_3bb60_row15_col14, #T_3bb60_row15_col21, #T_3bb60_row15_col22, #T_3bb60_row15_col23, #T_3bb60_row15_col24, #T_3bb60_row15_col25, #T_3bb60_row15_col26, #T_3bb60_row15_col27, #T_3bb60_row16_col0, #T_3bb60_row16_col1, #T_3bb60_row16_col2, #T_3bb60_row16_col3, #T_3bb60_row16_col4, #T_3bb60_row16_col5, #T_3bb60_row16_col6, #T_3bb60_row16_col7, #T_3bb60_row16_col8, #T_3bb60_row16_col9, #T_3bb60_row16_col10, #T_3bb60_row16_col11, #T_3bb60_row16_col12, #T_3bb60_row16_col13, #T_3bb60_row16_col14, #T_3bb60_row16_col21, #T_3bb60_row16_col22, #T_3bb60_row16_col23, #T_3bb60_row16_col24, #T_3bb60_row16_col25, #T_3bb60_row16_col26, #T_3bb60_row16_col27, #T_3bb60_row17_col0, #T_3bb60_row17_col1, #T_3bb60_row17_col2, #T_3bb60_row17_col3, #T_3bb60_row17_col4, #T_3bb60_row17_col5, #T_3bb60_row17_col6, #T_3bb60_row17_col7, #T_3bb60_row17_col8, #T_3bb60_row17_col9, #T_3bb60_row17_col10, #T_3bb60_row17_col11, #T_3bb60_row17_col19, #T_3bb60_row17_col20, #T_3bb60_row17_col21, #T_3bb60_row17_col22, #T_3bb60_row17_col23, #T_3bb60_row17_col24, #T_3bb60_row17_col25, #T_3bb60_row17_col26, #T_3bb60_row17_col27, #T_3bb60_row18_col0, #T_3bb60_row18_col1, #T_3bb60_row18_col2, #T_3bb60_row18_col3, #T_3bb60_row18_col4, #T_3bb60_row18_col5, #T_3bb60_row18_col6, #T_3bb60_row18_col7, #T_3bb60_row18_col8, #T_3bb60_row18_col9, #T_3bb60_row18_col10, #T_3bb60_row18_col11, #T_3bb60_row18_col19, #T_3bb60_row18_col20, #T_3bb60_row18_col21, #T_3bb60_row18_col22, #T_3bb60_row18_col23, #T_3bb60_row18_col24, #T_3bb60_row18_col25, #T_3bb60_row18_col26, #T_3bb60_row18_col27, #T_3bb60_row19_col0, #T_3bb60_row19_col1, #T_3bb60_row19_col2, #T_3bb60_row19_col3, #T_3bb60_row19_col4, #T_3bb60_row19_col5, #T_3bb60_row19_col6, #T_3bb60_row19_col7, #T_3bb60_row19_col8, #T_3bb60_row19_col9, #T_3bb60_row19_col10, #T_3bb60_row19_col11, #T_3bb60_row19_col18, #T_3bb60_row19_col19, #T_3bb60_row19_col20, #T_3bb60_row19_col21, #T_3bb60_row19_col22, #T_3bb60_row19_col23, #T_3bb60_row19_col24, #T_3bb60_row19_col25, #T_3bb60_row19_col26, #T_3bb60_row19_col27, #T_3bb60_row20_col0, #T_3bb60_row20_col1, #T_3bb60_row20_col2, #T_3bb60_row20_col3, #T_3bb60_row20_col4, #T_3bb60_row20_col5, #T_3bb60_row20_col6, #T_3bb60_row20_col7, #T_3bb60_row20_col8, #T_3bb60_row20_col9, #T_3bb60_row20_col10, #T_3bb60_row20_col17, #T_3bb60_row20_col18, #T_3bb60_row20_col19, #T_3bb60_row20_col20, #T_3bb60_row20_col21, #T_3bb60_row20_col22, #T_3bb60_row20_col23, #T_3bb60_row20_col24, #T_3bb60_row20_col25, #T_3bb60_row20_col26, #T_3bb60_row20_col27, #T_3bb60_row21_col0, #T_3bb60_row21_col1, #T_3bb60_row21_col2, #T_3bb60_row21_col3, #T_3bb60_row21_col4, #T_3bb60_row21_col5, #T_3bb60_row21_col6, #T_3bb60_row21_col7, #T_3bb60_row21_col8, #T_3bb60_row21_col9, #T_3bb60_row21_col15, #T_3bb60_row21_col16, #T_3bb60_row21_col17, #T_3bb60_row21_col18, #T_3bb60_row21_col19, #T_3bb60_row21_col20, #T_3bb60_row21_col21, #T_3bb60_row21_col22, #T_3bb60_row21_col23, #T_3bb60_row21_col24, #T_3bb60_row21_col25, #T_3bb60_row21_col26, #T_3bb60_row21_col27, #T_3bb60_row22_col0, #T_3bb60_row22_col1, #T_3bb60_row22_col2, #T_3bb60_row22_col3, #T_3bb60_row22_col4, #T_3bb60_row22_col5, #T_3bb60_row22_col6, #T_3bb60_row22_col7, #T_3bb60_row22_col8, #T_3bb60_row22_col9, #T_3bb60_row22_col15, #T_3bb60_row22_col16, #T_3bb60_row22_col17, #T_3bb60_row22_col18, #T_3bb60_row22_col19, #T_3bb60_row22_col20, #T_3bb60_row22_col21, #T_3bb60_row22_col22, #T_3bb60_row22_col23, #T_3bb60_row22_col24, #T_3bb60_row22_col25, #T_3bb60_row22_col26, #T_3bb60_row22_col27, #T_3bb60_row23_col0, #T_3bb60_row23_col1, #T_3bb60_row23_col2, #T_3bb60_row23_col3, #T_3bb60_row23_col4, #T_3bb60_row23_col5, #T_3bb60_row23_col6, #T_3bb60_row23_col7, #T_3bb60_row23_col8, #T_3bb60_row23_col15, #T_3bb60_row23_col16, #T_3bb60_row23_col17, #T_3bb60_row23_col18, #T_3bb60_row23_col19, #T_3bb60_row23_col20, #T_3bb60_row23_col21, #T_3bb60_row23_col22, #T_3bb60_row23_col23, #T_3bb60_row23_col24, #T_3bb60_row23_col25, #T_3bb60_row23_col26, #T_3bb60_row23_col27, #T_3bb60_row24_col0, #T_3bb60_row24_col1, #T_3bb60_row24_col2, #T_3bb60_row24_col3, #T_3bb60_row24_col4, #T_3bb60_row24_col5, #T_3bb60_row24_col6, #T_3bb60_row24_col7, #T_3bb60_row24_col8, #T_3bb60_row24_col13, #T_3bb60_row24_col14, #T_3bb60_row24_col15, #T_3bb60_row24_col16, #T_3bb60_row24_col17, #T_3bb60_row24_col18, #T_3bb60_row24_col19, #T_3bb60_row24_col20, #T_3bb60_row24_col21, #T_3bb60_row24_col22, #T_3bb60_row24_col23, #T_3bb60_row24_col24, #T_3bb60_row24_col25, #T_3bb60_row24_col26, #T_3bb60_row24_col27, #T_3bb60_row25_col0, #T_3bb60_row25_col1, #T_3bb60_row25_col2, #T_3bb60_row25_col3, #T_3bb60_row25_col4, #T_3bb60_row25_col5, #T_3bb60_row25_col6, #T_3bb60_row25_col7, #T_3bb60_row25_col8, #T_3bb60_row25_col12, #T_3bb60_row25_col13, #T_3bb60_row25_col14, #T_3bb60_row25_col15, #T_3bb60_row25_col16, #T_3bb60_row25_col17, #T_3bb60_row25_col18, #T_3bb60_row25_col19, #T_3bb60_row25_col20, #T_3bb60_row25_col21, #T_3bb60_row25_col22, #T_3bb60_row25_col23, #T_3bb60_row25_col24, #T_3bb60_row25_col25, #T_3bb60_row25_col26, #T_3bb60_row25_col27, #T_3bb60_row26_col0, #T_3bb60_row26_col1, #T_3bb60_row26_col2, #T_3bb60_row26_col3, #T_3bb60_row26_col4, #T_3bb60_row26_col5, #T_3bb60_row26_col6, #T_3bb60_row26_col7, #T_3bb60_row26_col8, #T_3bb60_row26_col12, #T_3bb60_row26_col13, #T_3bb60_row26_col14, #T_3bb60_row26_col15, #T_3bb60_row26_col16, #T_3bb60_row26_col17, #T_3bb60_row26_col18, #T_3bb60_row26_col19, #T_3bb60_row26_col20, #T_3bb60_row26_col21, #T_3bb60_row26_col22, #T_3bb60_row26_col23, #T_3bb60_row26_col24, #T_3bb60_row26_col25, #T_3bb60_row26_col26, #T_3bb60_row26_col27, #T_3bb60_row27_col0, #T_3bb60_row27_col1, #T_3bb60_row27_col2, #T_3bb60_row27_col3, #T_3bb60_row27_col4, #T_3bb60_row27_col5, #T_3bb60_row27_col6, #T_3bb60_row27_col7, #T_3bb60_row27_col8, #T_3bb60_row27_col9, #T_3bb60_row27_col10, #T_3bb60_row27_col11, #T_3bb60_row27_col12, #T_3bb60_row27_col13, #T_3bb60_row27_col14, #T_3bb60_row27_col15, #T_3bb60_row27_col16, #T_3bb60_row27_col17, #T_3bb60_row27_col18, #T_3bb60_row27_col19, #T_3bb60_row27_col20, #T_3bb60_row27_col21, #T_3bb60_row27_col22, #T_3bb60_row27_col23, #T_3bb60_row27_col24, #T_3bb60_row27_col25, #T_3bb60_row27_col26, #T_3bb60_row27_col27 {\n",
       "  font-size: 6pt;\n",
       "  background-color: #ffffff;\n",
       "  color: #000000;\n",
       "}\n",
       "#T_3bb60_row7_col8, #T_3bb60_row8_col18 {\n",
       "  font-size: 6pt;\n",
       "  background-color: #cdcdcd;\n",
       "  color: #000000;\n",
       "}\n",
       "#T_3bb60_row7_col9 {\n",
       "  font-size: 6pt;\n",
       "  background-color: #696969;\n",
       "  color: #f1f1f1;\n",
       "}\n",
       "#T_3bb60_row7_col10, #T_3bb60_row8_col9, #T_3bb60_row8_col11, #T_3bb60_row9_col8, #T_3bb60_row9_col9, #T_3bb60_row9_col11, #T_3bb60_row9_col12, #T_3bb60_row9_col13, #T_3bb60_row9_col14, #T_3bb60_row9_col18, #T_3bb60_row9_col19, #T_3bb60_row9_col20, #T_3bb60_row10_col6, #T_3bb60_row10_col7, #T_3bb60_row10_col8, #T_3bb60_row10_col9, #T_3bb60_row10_col11, #T_3bb60_row10_col12, #T_3bb60_row10_col13, #T_3bb60_row10_col14, #T_3bb60_row10_col18, #T_3bb60_row10_col19, #T_3bb60_row10_col20, #T_3bb60_row10_col21, #T_3bb60_row11_col6, #T_3bb60_row11_col7, #T_3bb60_row11_col8, #T_3bb60_row11_col9, #T_3bb60_row11_col11, #T_3bb60_row11_col12, #T_3bb60_row11_col13, #T_3bb60_row11_col14, #T_3bb60_row11_col18, #T_3bb60_row11_col19, #T_3bb60_row11_col20, #T_3bb60_row11_col21, #T_3bb60_row11_col22, #T_3bb60_row12_col6, #T_3bb60_row12_col7, #T_3bb60_row12_col8, #T_3bb60_row12_col9, #T_3bb60_row12_col11, #T_3bb60_row12_col12, #T_3bb60_row12_col13, #T_3bb60_row12_col19, #T_3bb60_row12_col20, #T_3bb60_row13_col6, #T_3bb60_row13_col7, #T_3bb60_row13_col8, #T_3bb60_row13_col19, #T_3bb60_row14_col18, #T_3bb60_row14_col19, #T_3bb60_row15_col18, #T_3bb60_row15_col19, #T_3bb60_row16_col18, #T_3bb60_row17_col15, #T_3bb60_row17_col16, #T_3bb60_row17_col17, #T_3bb60_row18_col13, #T_3bb60_row18_col14, #T_3bb60_row19_col13, #T_3bb60_row19_col14, #T_3bb60_row20_col13, #T_3bb60_row20_col14, #T_3bb60_row21_col12, #T_3bb60_row21_col13, #T_3bb60_row22_col11, #T_3bb60_row22_col12, #T_3bb60_row22_col13, #T_3bb60_row23_col11 {\n",
       "  font-size: 6pt;\n",
       "  background-color: #000000;\n",
       "  color: #f1f1f1;\n",
       "}\n",
       "#T_3bb60_row7_col11, #T_3bb60_row19_col16 {\n",
       "  font-size: 6pt;\n",
       "  background-color: #474747;\n",
       "  color: #f1f1f1;\n",
       "}\n",
       "#T_3bb60_row7_col12, #T_3bb60_row8_col7 {\n",
       "  font-size: 6pt;\n",
       "  background-color: #f2f2f2;\n",
       "  color: #000000;\n",
       "}\n",
       "#T_3bb60_row7_col20, #T_3bb60_row13_col14 {\n",
       "  font-size: 6pt;\n",
       "  background-color: #f9f9f9;\n",
       "  color: #000000;\n",
       "}\n",
       "#T_3bb60_row7_col21 {\n",
       "  font-size: 6pt;\n",
       "  background-color: #f0f0f0;\n",
       "  color: #000000;\n",
       "}\n",
       "#T_3bb60_row8_col8 {\n",
       "  font-size: 6pt;\n",
       "  background-color: #303030;\n",
       "  color: #f1f1f1;\n",
       "}\n",
       "#T_3bb60_row8_col10, #T_3bb60_row9_col10, #T_3bb60_row9_col16, #T_3bb60_row9_col17, #T_3bb60_row10_col10, #T_3bb60_row10_col16, #T_3bb60_row10_col17, #T_3bb60_row11_col10, #T_3bb60_row11_col16, #T_3bb60_row11_col17, #T_3bb60_row12_col10, #T_3bb60_row13_col18, #T_3bb60_row14_col17, #T_3bb60_row15_col17, #T_3bb60_row16_col16, #T_3bb60_row16_col17, #T_3bb60_row18_col16, #T_3bb60_row24_col10, #T_3bb60_row25_col10, #T_3bb60_row26_col10 {\n",
       "  font-size: 6pt;\n",
       "  background-color: #010101;\n",
       "  color: #f1f1f1;\n",
       "}\n",
       "#T_3bb60_row8_col12 {\n",
       "  font-size: 6pt;\n",
       "  background-color: #252525;\n",
       "  color: #f1f1f1;\n",
       "}\n",
       "#T_3bb60_row8_col13, #T_3bb60_row8_col14, #T_3bb60_row17_col13 {\n",
       "  font-size: 6pt;\n",
       "  background-color: #d5d5d5;\n",
       "  color: #000000;\n",
       "}\n",
       "#T_3bb60_row8_col15 {\n",
       "  font-size: 6pt;\n",
       "  background-color: #d6d6d6;\n",
       "  color: #000000;\n",
       "}\n",
       "#T_3bb60_row8_col16 {\n",
       "  font-size: 6pt;\n",
       "  background-color: #bbbbbb;\n",
       "  color: #000000;\n",
       "}\n",
       "#T_3bb60_row8_col17 {\n",
       "  font-size: 6pt;\n",
       "  background-color: #c5c5c5;\n",
       "  color: #000000;\n",
       "}\n",
       "#T_3bb60_row8_col19 {\n",
       "  font-size: 6pt;\n",
       "  background-color: #b0b0b0;\n",
       "  color: #000000;\n",
       "}\n",
       "#T_3bb60_row8_col20 {\n",
       "  font-size: 6pt;\n",
       "  background-color: #5d5d5d;\n",
       "  color: #f1f1f1;\n",
       "}\n",
       "#T_3bb60_row8_col21 {\n",
       "  font-size: 6pt;\n",
       "  background-color: #0d0d0d;\n",
       "  color: #f1f1f1;\n",
       "}\n",
       "#T_3bb60_row9_col6, #T_3bb60_row12_col15 {\n",
       "  font-size: 6pt;\n",
       "  background-color: #b4b4b4;\n",
       "  color: #000000;\n",
       "}\n",
       "#T_3bb60_row9_col7 {\n",
       "  font-size: 6pt;\n",
       "  background-color: #383838;\n",
       "  color: #f1f1f1;\n",
       "}\n",
       "#T_3bb60_row9_col15, #T_3bb60_row9_col21, #T_3bb60_row10_col15, #T_3bb60_row11_col15, #T_3bb60_row18_col15, #T_3bb60_row19_col15, #T_3bb60_row23_col12, #T_3bb60_row24_col11 {\n",
       "  font-size: 6pt;\n",
       "  background-color: #020202;\n",
       "  color: #f1f1f1;\n",
       "}\n",
       "#T_3bb60_row9_col22 {\n",
       "  font-size: 6pt;\n",
       "  background-color: #a7a7a7;\n",
       "  color: #f1f1f1;\n",
       "}\n",
       "#T_3bb60_row10_col22, #T_3bb60_row12_col14, #T_3bb60_row20_col15 {\n",
       "  font-size: 6pt;\n",
       "  background-color: #2e2e2e;\n",
       "  color: #f1f1f1;\n",
       "}\n",
       "#T_3bb60_row12_col16, #T_3bb60_row15_col20 {\n",
       "  font-size: 6pt;\n",
       "  background-color: #c7c7c7;\n",
       "  color: #000000;\n",
       "}\n",
       "#T_3bb60_row12_col17, #T_3bb60_row14_col20 {\n",
       "  font-size: 6pt;\n",
       "  background-color: #a2a2a2;\n",
       "  color: #f1f1f1;\n",
       "}\n",
       "#T_3bb60_row12_col18 {\n",
       "  font-size: 6pt;\n",
       "  background-color: #030303;\n",
       "  color: #f1f1f1;\n",
       "}\n",
       "#T_3bb60_row12_col21, #T_3bb60_row13_col20, #T_3bb60_row20_col12 {\n",
       "  font-size: 6pt;\n",
       "  background-color: #050505;\n",
       "  color: #f1f1f1;\n",
       "}\n",
       "#T_3bb60_row12_col22 {\n",
       "  font-size: 6pt;\n",
       "  background-color: #c3c3c3;\n",
       "  color: #000000;\n",
       "}\n",
       "#T_3bb60_row13_col9, #T_3bb60_row21_col11 {\n",
       "  font-size: 6pt;\n",
       "  background-color: #080808;\n",
       "  color: #f1f1f1;\n",
       "}\n",
       "#T_3bb60_row13_col10 {\n",
       "  font-size: 6pt;\n",
       "  background-color: #0e0e0e;\n",
       "  color: #f1f1f1;\n",
       "}\n",
       "#T_3bb60_row13_col11 {\n",
       "  font-size: 6pt;\n",
       "  background-color: #535353;\n",
       "  color: #f1f1f1;\n",
       "}\n",
       "#T_3bb60_row13_col12 {\n",
       "  font-size: 6pt;\n",
       "  background-color: #909090;\n",
       "  color: #f1f1f1;\n",
       "}\n",
       "#T_3bb60_row13_col13 {\n",
       "  font-size: 6pt;\n",
       "  background-color: #e3e3e3;\n",
       "  color: #000000;\n",
       "}\n",
       "#T_3bb60_row13_col16, #T_3bb60_row19_col17 {\n",
       "  font-size: 6pt;\n",
       "  background-color: #fbfbfb;\n",
       "  color: #000000;\n",
       "}\n",
       "#T_3bb60_row13_col17 {\n",
       "  font-size: 6pt;\n",
       "  background-color: #818181;\n",
       "  color: #f1f1f1;\n",
       "}\n",
       "#T_3bb60_row13_col21 {\n",
       "  font-size: 6pt;\n",
       "  background-color: #5a5a5a;\n",
       "  color: #f1f1f1;\n",
       "}\n",
       "#T_3bb60_row14_col6 {\n",
       "  font-size: 6pt;\n",
       "  background-color: #b9b9b9;\n",
       "  color: #000000;\n",
       "}\n",
       "#T_3bb60_row14_col7, #T_3bb60_row14_col8 {\n",
       "  font-size: 6pt;\n",
       "  background-color: #b8b8b8;\n",
       "  color: #000000;\n",
       "}\n",
       "#T_3bb60_row14_col9 {\n",
       "  font-size: 6pt;\n",
       "  background-color: #eeeeee;\n",
       "  color: #000000;\n",
       "}\n",
       "#T_3bb60_row14_col16 {\n",
       "  font-size: 6pt;\n",
       "  background-color: #606060;\n",
       "  color: #f1f1f1;\n",
       "}\n",
       "#T_3bb60_row15_col15 {\n",
       "  font-size: 6pt;\n",
       "  background-color: #dcdcdc;\n",
       "  color: #000000;\n",
       "}\n",
       "#T_3bb60_row15_col16 {\n",
       "  font-size: 6pt;\n",
       "  background-color: #171717;\n",
       "  color: #f1f1f1;\n",
       "}\n",
       "#T_3bb60_row16_col15 {\n",
       "  font-size: 6pt;\n",
       "  background-color: #131313;\n",
       "  color: #f1f1f1;\n",
       "}\n",
       "#T_3bb60_row16_col19 {\n",
       "  font-size: 6pt;\n",
       "  background-color: #ababab;\n",
       "  color: #000000;\n",
       "}\n",
       "#T_3bb60_row16_col20, #T_3bb60_row17_col12 {\n",
       "  font-size: 6pt;\n",
       "  background-color: #fcfcfc;\n",
       "  color: #000000;\n",
       "}\n",
       "#T_3bb60_row17_col14 {\n",
       "  font-size: 6pt;\n",
       "  background-color: #0f0f0f;\n",
       "  color: #f1f1f1;\n",
       "}\n",
       "#T_3bb60_row17_col18 {\n",
       "  font-size: 6pt;\n",
       "  background-color: #777777;\n",
       "  color: #f1f1f1;\n",
       "}\n",
       "#T_3bb60_row18_col12 {\n",
       "  font-size: 6pt;\n",
       "  background-color: #e7e7e7;\n",
       "  color: #000000;\n",
       "}\n",
       "#T_3bb60_row18_col17 {\n",
       "  font-size: 6pt;\n",
       "  background-color: #787878;\n",
       "  color: #f1f1f1;\n",
       "}\n",
       "#T_3bb60_row18_col18, #T_3bb60_row23_col9, #T_3bb60_row23_col14 {\n",
       "  font-size: 6pt;\n",
       "  background-color: #fefefe;\n",
       "  color: #000000;\n",
       "}\n",
       "#T_3bb60_row19_col12 {\n",
       "  font-size: 6pt;\n",
       "  background-color: #8c8c8c;\n",
       "  color: #f1f1f1;\n",
       "}\n",
       "#T_3bb60_row20_col11, #T_3bb60_row23_col13 {\n",
       "  font-size: 6pt;\n",
       "  background-color: #949494;\n",
       "  color: #f1f1f1;\n",
       "}\n",
       "#T_3bb60_row20_col16 {\n",
       "  font-size: 6pt;\n",
       "  background-color: #e9e9e9;\n",
       "  color: #000000;\n",
       "}\n",
       "#T_3bb60_row21_col10 {\n",
       "  font-size: 6pt;\n",
       "  background-color: #c9c9c9;\n",
       "  color: #000000;\n",
       "}\n",
       "#T_3bb60_row21_col14 {\n",
       "  font-size: 6pt;\n",
       "  background-color: #5c5c5c;\n",
       "  color: #f1f1f1;\n",
       "}\n",
       "#T_3bb60_row22_col10 {\n",
       "  font-size: 6pt;\n",
       "  background-color: #464646;\n",
       "  color: #f1f1f1;\n",
       "}\n",
       "#T_3bb60_row22_col14, #T_3bb60_row24_col9, #T_3bb60_row25_col9, #T_3bb60_row26_col9 {\n",
       "  font-size: 6pt;\n",
       "  background-color: #dfdfdf;\n",
       "  color: #000000;\n",
       "}\n",
       "#T_3bb60_row23_col10 {\n",
       "  font-size: 6pt;\n",
       "  background-color: #414141;\n",
       "  color: #f1f1f1;\n",
       "}\n",
       "#T_3bb60_row24_col12 {\n",
       "  font-size: 6pt;\n",
       "  background-color: #999999;\n",
       "  color: #f1f1f1;\n",
       "}\n",
       "#T_3bb60_row25_col11 {\n",
       "  font-size: 6pt;\n",
       "  background-color: #717171;\n",
       "  color: #f1f1f1;\n",
       "}\n",
       "#T_3bb60_row26_col11 {\n",
       "  font-size: 6pt;\n",
       "  background-color: #c6c6c6;\n",
       "  color: #000000;\n",
       "}\n",
       "</style>\n",
       "<table id=\"T_3bb60\">\n",
       "  <thead>\n",
       "    <tr>\n",
       "      <th class=\"blank level0\" >&nbsp;</th>\n",
       "      <th id=\"T_3bb60_level0_col0\" class=\"col_heading level0 col0\" >0</th>\n",
       "      <th id=\"T_3bb60_level0_col1\" class=\"col_heading level0 col1\" >1</th>\n",
       "      <th id=\"T_3bb60_level0_col2\" class=\"col_heading level0 col2\" >2</th>\n",
       "      <th id=\"T_3bb60_level0_col3\" class=\"col_heading level0 col3\" >3</th>\n",
       "      <th id=\"T_3bb60_level0_col4\" class=\"col_heading level0 col4\" >4</th>\n",
       "      <th id=\"T_3bb60_level0_col5\" class=\"col_heading level0 col5\" >5</th>\n",
       "      <th id=\"T_3bb60_level0_col6\" class=\"col_heading level0 col6\" >6</th>\n",
       "      <th id=\"T_3bb60_level0_col7\" class=\"col_heading level0 col7\" >7</th>\n",
       "      <th id=\"T_3bb60_level0_col8\" class=\"col_heading level0 col8\" >8</th>\n",
       "      <th id=\"T_3bb60_level0_col9\" class=\"col_heading level0 col9\" >9</th>\n",
       "      <th id=\"T_3bb60_level0_col10\" class=\"col_heading level0 col10\" >10</th>\n",
       "      <th id=\"T_3bb60_level0_col11\" class=\"col_heading level0 col11\" >11</th>\n",
       "      <th id=\"T_3bb60_level0_col12\" class=\"col_heading level0 col12\" >12</th>\n",
       "      <th id=\"T_3bb60_level0_col13\" class=\"col_heading level0 col13\" >13</th>\n",
       "      <th id=\"T_3bb60_level0_col14\" class=\"col_heading level0 col14\" >14</th>\n",
       "      <th id=\"T_3bb60_level0_col15\" class=\"col_heading level0 col15\" >15</th>\n",
       "      <th id=\"T_3bb60_level0_col16\" class=\"col_heading level0 col16\" >16</th>\n",
       "      <th id=\"T_3bb60_level0_col17\" class=\"col_heading level0 col17\" >17</th>\n",
       "      <th id=\"T_3bb60_level0_col18\" class=\"col_heading level0 col18\" >18</th>\n",
       "      <th id=\"T_3bb60_level0_col19\" class=\"col_heading level0 col19\" >19</th>\n",
       "      <th id=\"T_3bb60_level0_col20\" class=\"col_heading level0 col20\" >20</th>\n",
       "      <th id=\"T_3bb60_level0_col21\" class=\"col_heading level0 col21\" >21</th>\n",
       "      <th id=\"T_3bb60_level0_col22\" class=\"col_heading level0 col22\" >22</th>\n",
       "      <th id=\"T_3bb60_level0_col23\" class=\"col_heading level0 col23\" >23</th>\n",
       "      <th id=\"T_3bb60_level0_col24\" class=\"col_heading level0 col24\" >24</th>\n",
       "      <th id=\"T_3bb60_level0_col25\" class=\"col_heading level0 col25\" >25</th>\n",
       "      <th id=\"T_3bb60_level0_col26\" class=\"col_heading level0 col26\" >26</th>\n",
       "      <th id=\"T_3bb60_level0_col27\" class=\"col_heading level0 col27\" >27</th>\n",
       "    </tr>\n",
       "  </thead>\n",
       "  <tbody>\n",
       "    <tr>\n",
       "      <th id=\"T_3bb60_level0_row0\" class=\"row_heading level0 row0\" >0</th>\n",
       "      <td id=\"T_3bb60_row0_col0\" class=\"data row0 col0\" >0</td>\n",
       "      <td id=\"T_3bb60_row0_col1\" class=\"data row0 col1\" >0</td>\n",
       "      <td id=\"T_3bb60_row0_col2\" class=\"data row0 col2\" >0</td>\n",
       "      <td id=\"T_3bb60_row0_col3\" class=\"data row0 col3\" >0</td>\n",
       "      <td id=\"T_3bb60_row0_col4\" class=\"data row0 col4\" >0</td>\n",
       "      <td id=\"T_3bb60_row0_col5\" class=\"data row0 col5\" >0</td>\n",
       "      <td id=\"T_3bb60_row0_col6\" class=\"data row0 col6\" >0</td>\n",
       "      <td id=\"T_3bb60_row0_col7\" class=\"data row0 col7\" >0</td>\n",
       "      <td id=\"T_3bb60_row0_col8\" class=\"data row0 col8\" >0</td>\n",
       "      <td id=\"T_3bb60_row0_col9\" class=\"data row0 col9\" >0</td>\n",
       "      <td id=\"T_3bb60_row0_col10\" class=\"data row0 col10\" >0</td>\n",
       "      <td id=\"T_3bb60_row0_col11\" class=\"data row0 col11\" >0</td>\n",
       "      <td id=\"T_3bb60_row0_col12\" class=\"data row0 col12\" >0</td>\n",
       "      <td id=\"T_3bb60_row0_col13\" class=\"data row0 col13\" >0</td>\n",
       "      <td id=\"T_3bb60_row0_col14\" class=\"data row0 col14\" >0</td>\n",
       "      <td id=\"T_3bb60_row0_col15\" class=\"data row0 col15\" >0</td>\n",
       "      <td id=\"T_3bb60_row0_col16\" class=\"data row0 col16\" >0</td>\n",
       "      <td id=\"T_3bb60_row0_col17\" class=\"data row0 col17\" >0</td>\n",
       "      <td id=\"T_3bb60_row0_col18\" class=\"data row0 col18\" >0</td>\n",
       "      <td id=\"T_3bb60_row0_col19\" class=\"data row0 col19\" >0</td>\n",
       "      <td id=\"T_3bb60_row0_col20\" class=\"data row0 col20\" >0</td>\n",
       "      <td id=\"T_3bb60_row0_col21\" class=\"data row0 col21\" >0</td>\n",
       "      <td id=\"T_3bb60_row0_col22\" class=\"data row0 col22\" >0</td>\n",
       "      <td id=\"T_3bb60_row0_col23\" class=\"data row0 col23\" >0</td>\n",
       "      <td id=\"T_3bb60_row0_col24\" class=\"data row0 col24\" >0</td>\n",
       "      <td id=\"T_3bb60_row0_col25\" class=\"data row0 col25\" >0</td>\n",
       "      <td id=\"T_3bb60_row0_col26\" class=\"data row0 col26\" >0</td>\n",
       "      <td id=\"T_3bb60_row0_col27\" class=\"data row0 col27\" >0</td>\n",
       "    </tr>\n",
       "    <tr>\n",
       "      <th id=\"T_3bb60_level0_row1\" class=\"row_heading level0 row1\" >1</th>\n",
       "      <td id=\"T_3bb60_row1_col0\" class=\"data row1 col0\" >0</td>\n",
       "      <td id=\"T_3bb60_row1_col1\" class=\"data row1 col1\" >0</td>\n",
       "      <td id=\"T_3bb60_row1_col2\" class=\"data row1 col2\" >0</td>\n",
       "      <td id=\"T_3bb60_row1_col3\" class=\"data row1 col3\" >0</td>\n",
       "      <td id=\"T_3bb60_row1_col4\" class=\"data row1 col4\" >0</td>\n",
       "      <td id=\"T_3bb60_row1_col5\" class=\"data row1 col5\" >0</td>\n",
       "      <td id=\"T_3bb60_row1_col6\" class=\"data row1 col6\" >0</td>\n",
       "      <td id=\"T_3bb60_row1_col7\" class=\"data row1 col7\" >0</td>\n",
       "      <td id=\"T_3bb60_row1_col8\" class=\"data row1 col8\" >0</td>\n",
       "      <td id=\"T_3bb60_row1_col9\" class=\"data row1 col9\" >0</td>\n",
       "      <td id=\"T_3bb60_row1_col10\" class=\"data row1 col10\" >0</td>\n",
       "      <td id=\"T_3bb60_row1_col11\" class=\"data row1 col11\" >0</td>\n",
       "      <td id=\"T_3bb60_row1_col12\" class=\"data row1 col12\" >0</td>\n",
       "      <td id=\"T_3bb60_row1_col13\" class=\"data row1 col13\" >0</td>\n",
       "      <td id=\"T_3bb60_row1_col14\" class=\"data row1 col14\" >0</td>\n",
       "      <td id=\"T_3bb60_row1_col15\" class=\"data row1 col15\" >0</td>\n",
       "      <td id=\"T_3bb60_row1_col16\" class=\"data row1 col16\" >0</td>\n",
       "      <td id=\"T_3bb60_row1_col17\" class=\"data row1 col17\" >0</td>\n",
       "      <td id=\"T_3bb60_row1_col18\" class=\"data row1 col18\" >0</td>\n",
       "      <td id=\"T_3bb60_row1_col19\" class=\"data row1 col19\" >0</td>\n",
       "      <td id=\"T_3bb60_row1_col20\" class=\"data row1 col20\" >0</td>\n",
       "      <td id=\"T_3bb60_row1_col21\" class=\"data row1 col21\" >0</td>\n",
       "      <td id=\"T_3bb60_row1_col22\" class=\"data row1 col22\" >0</td>\n",
       "      <td id=\"T_3bb60_row1_col23\" class=\"data row1 col23\" >0</td>\n",
       "      <td id=\"T_3bb60_row1_col24\" class=\"data row1 col24\" >0</td>\n",
       "      <td id=\"T_3bb60_row1_col25\" class=\"data row1 col25\" >0</td>\n",
       "      <td id=\"T_3bb60_row1_col26\" class=\"data row1 col26\" >0</td>\n",
       "      <td id=\"T_3bb60_row1_col27\" class=\"data row1 col27\" >0</td>\n",
       "    </tr>\n",
       "    <tr>\n",
       "      <th id=\"T_3bb60_level0_row2\" class=\"row_heading level0 row2\" >2</th>\n",
       "      <td id=\"T_3bb60_row2_col0\" class=\"data row2 col0\" >0</td>\n",
       "      <td id=\"T_3bb60_row2_col1\" class=\"data row2 col1\" >0</td>\n",
       "      <td id=\"T_3bb60_row2_col2\" class=\"data row2 col2\" >0</td>\n",
       "      <td id=\"T_3bb60_row2_col3\" class=\"data row2 col3\" >0</td>\n",
       "      <td id=\"T_3bb60_row2_col4\" class=\"data row2 col4\" >0</td>\n",
       "      <td id=\"T_3bb60_row2_col5\" class=\"data row2 col5\" >0</td>\n",
       "      <td id=\"T_3bb60_row2_col6\" class=\"data row2 col6\" >0</td>\n",
       "      <td id=\"T_3bb60_row2_col7\" class=\"data row2 col7\" >0</td>\n",
       "      <td id=\"T_3bb60_row2_col8\" class=\"data row2 col8\" >0</td>\n",
       "      <td id=\"T_3bb60_row2_col9\" class=\"data row2 col9\" >0</td>\n",
       "      <td id=\"T_3bb60_row2_col10\" class=\"data row2 col10\" >0</td>\n",
       "      <td id=\"T_3bb60_row2_col11\" class=\"data row2 col11\" >0</td>\n",
       "      <td id=\"T_3bb60_row2_col12\" class=\"data row2 col12\" >0</td>\n",
       "      <td id=\"T_3bb60_row2_col13\" class=\"data row2 col13\" >0</td>\n",
       "      <td id=\"T_3bb60_row2_col14\" class=\"data row2 col14\" >0</td>\n",
       "      <td id=\"T_3bb60_row2_col15\" class=\"data row2 col15\" >0</td>\n",
       "      <td id=\"T_3bb60_row2_col16\" class=\"data row2 col16\" >0</td>\n",
       "      <td id=\"T_3bb60_row2_col17\" class=\"data row2 col17\" >0</td>\n",
       "      <td id=\"T_3bb60_row2_col18\" class=\"data row2 col18\" >0</td>\n",
       "      <td id=\"T_3bb60_row2_col19\" class=\"data row2 col19\" >0</td>\n",
       "      <td id=\"T_3bb60_row2_col20\" class=\"data row2 col20\" >0</td>\n",
       "      <td id=\"T_3bb60_row2_col21\" class=\"data row2 col21\" >0</td>\n",
       "      <td id=\"T_3bb60_row2_col22\" class=\"data row2 col22\" >0</td>\n",
       "      <td id=\"T_3bb60_row2_col23\" class=\"data row2 col23\" >0</td>\n",
       "      <td id=\"T_3bb60_row2_col24\" class=\"data row2 col24\" >0</td>\n",
       "      <td id=\"T_3bb60_row2_col25\" class=\"data row2 col25\" >0</td>\n",
       "      <td id=\"T_3bb60_row2_col26\" class=\"data row2 col26\" >0</td>\n",
       "      <td id=\"T_3bb60_row2_col27\" class=\"data row2 col27\" >0</td>\n",
       "    </tr>\n",
       "    <tr>\n",
       "      <th id=\"T_3bb60_level0_row3\" class=\"row_heading level0 row3\" >3</th>\n",
       "      <td id=\"T_3bb60_row3_col0\" class=\"data row3 col0\" >0</td>\n",
       "      <td id=\"T_3bb60_row3_col1\" class=\"data row3 col1\" >0</td>\n",
       "      <td id=\"T_3bb60_row3_col2\" class=\"data row3 col2\" >0</td>\n",
       "      <td id=\"T_3bb60_row3_col3\" class=\"data row3 col3\" >0</td>\n",
       "      <td id=\"T_3bb60_row3_col4\" class=\"data row3 col4\" >0</td>\n",
       "      <td id=\"T_3bb60_row3_col5\" class=\"data row3 col5\" >0</td>\n",
       "      <td id=\"T_3bb60_row3_col6\" class=\"data row3 col6\" >0</td>\n",
       "      <td id=\"T_3bb60_row3_col7\" class=\"data row3 col7\" >0</td>\n",
       "      <td id=\"T_3bb60_row3_col8\" class=\"data row3 col8\" >0</td>\n",
       "      <td id=\"T_3bb60_row3_col9\" class=\"data row3 col9\" >0</td>\n",
       "      <td id=\"T_3bb60_row3_col10\" class=\"data row3 col10\" >0</td>\n",
       "      <td id=\"T_3bb60_row3_col11\" class=\"data row3 col11\" >0</td>\n",
       "      <td id=\"T_3bb60_row3_col12\" class=\"data row3 col12\" >0</td>\n",
       "      <td id=\"T_3bb60_row3_col13\" class=\"data row3 col13\" >0</td>\n",
       "      <td id=\"T_3bb60_row3_col14\" class=\"data row3 col14\" >0</td>\n",
       "      <td id=\"T_3bb60_row3_col15\" class=\"data row3 col15\" >0</td>\n",
       "      <td id=\"T_3bb60_row3_col16\" class=\"data row3 col16\" >0</td>\n",
       "      <td id=\"T_3bb60_row3_col17\" class=\"data row3 col17\" >0</td>\n",
       "      <td id=\"T_3bb60_row3_col18\" class=\"data row3 col18\" >0</td>\n",
       "      <td id=\"T_3bb60_row3_col19\" class=\"data row3 col19\" >0</td>\n",
       "      <td id=\"T_3bb60_row3_col20\" class=\"data row3 col20\" >0</td>\n",
       "      <td id=\"T_3bb60_row3_col21\" class=\"data row3 col21\" >0</td>\n",
       "      <td id=\"T_3bb60_row3_col22\" class=\"data row3 col22\" >0</td>\n",
       "      <td id=\"T_3bb60_row3_col23\" class=\"data row3 col23\" >0</td>\n",
       "      <td id=\"T_3bb60_row3_col24\" class=\"data row3 col24\" >0</td>\n",
       "      <td id=\"T_3bb60_row3_col25\" class=\"data row3 col25\" >0</td>\n",
       "      <td id=\"T_3bb60_row3_col26\" class=\"data row3 col26\" >0</td>\n",
       "      <td id=\"T_3bb60_row3_col27\" class=\"data row3 col27\" >0</td>\n",
       "    </tr>\n",
       "    <tr>\n",
       "      <th id=\"T_3bb60_level0_row4\" class=\"row_heading level0 row4\" >4</th>\n",
       "      <td id=\"T_3bb60_row4_col0\" class=\"data row4 col0\" >0</td>\n",
       "      <td id=\"T_3bb60_row4_col1\" class=\"data row4 col1\" >0</td>\n",
       "      <td id=\"T_3bb60_row4_col2\" class=\"data row4 col2\" >0</td>\n",
       "      <td id=\"T_3bb60_row4_col3\" class=\"data row4 col3\" >0</td>\n",
       "      <td id=\"T_3bb60_row4_col4\" class=\"data row4 col4\" >0</td>\n",
       "      <td id=\"T_3bb60_row4_col5\" class=\"data row4 col5\" >0</td>\n",
       "      <td id=\"T_3bb60_row4_col6\" class=\"data row4 col6\" >0</td>\n",
       "      <td id=\"T_3bb60_row4_col7\" class=\"data row4 col7\" >0</td>\n",
       "      <td id=\"T_3bb60_row4_col8\" class=\"data row4 col8\" >0</td>\n",
       "      <td id=\"T_3bb60_row4_col9\" class=\"data row4 col9\" >0</td>\n",
       "      <td id=\"T_3bb60_row4_col10\" class=\"data row4 col10\" >0</td>\n",
       "      <td id=\"T_3bb60_row4_col11\" class=\"data row4 col11\" >0</td>\n",
       "      <td id=\"T_3bb60_row4_col12\" class=\"data row4 col12\" >0</td>\n",
       "      <td id=\"T_3bb60_row4_col13\" class=\"data row4 col13\" >0</td>\n",
       "      <td id=\"T_3bb60_row4_col14\" class=\"data row4 col14\" >0</td>\n",
       "      <td id=\"T_3bb60_row4_col15\" class=\"data row4 col15\" >0</td>\n",
       "      <td id=\"T_3bb60_row4_col16\" class=\"data row4 col16\" >0</td>\n",
       "      <td id=\"T_3bb60_row4_col17\" class=\"data row4 col17\" >0</td>\n",
       "      <td id=\"T_3bb60_row4_col18\" class=\"data row4 col18\" >0</td>\n",
       "      <td id=\"T_3bb60_row4_col19\" class=\"data row4 col19\" >0</td>\n",
       "      <td id=\"T_3bb60_row4_col20\" class=\"data row4 col20\" >0</td>\n",
       "      <td id=\"T_3bb60_row4_col21\" class=\"data row4 col21\" >0</td>\n",
       "      <td id=\"T_3bb60_row4_col22\" class=\"data row4 col22\" >0</td>\n",
       "      <td id=\"T_3bb60_row4_col23\" class=\"data row4 col23\" >0</td>\n",
       "      <td id=\"T_3bb60_row4_col24\" class=\"data row4 col24\" >0</td>\n",
       "      <td id=\"T_3bb60_row4_col25\" class=\"data row4 col25\" >0</td>\n",
       "      <td id=\"T_3bb60_row4_col26\" class=\"data row4 col26\" >0</td>\n",
       "      <td id=\"T_3bb60_row4_col27\" class=\"data row4 col27\" >0</td>\n",
       "    </tr>\n",
       "    <tr>\n",
       "      <th id=\"T_3bb60_level0_row5\" class=\"row_heading level0 row5\" >5</th>\n",
       "      <td id=\"T_3bb60_row5_col0\" class=\"data row5 col0\" >0</td>\n",
       "      <td id=\"T_3bb60_row5_col1\" class=\"data row5 col1\" >0</td>\n",
       "      <td id=\"T_3bb60_row5_col2\" class=\"data row5 col2\" >0</td>\n",
       "      <td id=\"T_3bb60_row5_col3\" class=\"data row5 col3\" >0</td>\n",
       "      <td id=\"T_3bb60_row5_col4\" class=\"data row5 col4\" >0</td>\n",
       "      <td id=\"T_3bb60_row5_col5\" class=\"data row5 col5\" >0</td>\n",
       "      <td id=\"T_3bb60_row5_col6\" class=\"data row5 col6\" >0</td>\n",
       "      <td id=\"T_3bb60_row5_col7\" class=\"data row5 col7\" >0</td>\n",
       "      <td id=\"T_3bb60_row5_col8\" class=\"data row5 col8\" >0</td>\n",
       "      <td id=\"T_3bb60_row5_col9\" class=\"data row5 col9\" >0</td>\n",
       "      <td id=\"T_3bb60_row5_col10\" class=\"data row5 col10\" >0</td>\n",
       "      <td id=\"T_3bb60_row5_col11\" class=\"data row5 col11\" >0</td>\n",
       "      <td id=\"T_3bb60_row5_col12\" class=\"data row5 col12\" >0</td>\n",
       "      <td id=\"T_3bb60_row5_col13\" class=\"data row5 col13\" >0</td>\n",
       "      <td id=\"T_3bb60_row5_col14\" class=\"data row5 col14\" >0</td>\n",
       "      <td id=\"T_3bb60_row5_col15\" class=\"data row5 col15\" >0</td>\n",
       "      <td id=\"T_3bb60_row5_col16\" class=\"data row5 col16\" >0</td>\n",
       "      <td id=\"T_3bb60_row5_col17\" class=\"data row5 col17\" >0</td>\n",
       "      <td id=\"T_3bb60_row5_col18\" class=\"data row5 col18\" >0</td>\n",
       "      <td id=\"T_3bb60_row5_col19\" class=\"data row5 col19\" >0</td>\n",
       "      <td id=\"T_3bb60_row5_col20\" class=\"data row5 col20\" >0</td>\n",
       "      <td id=\"T_3bb60_row5_col21\" class=\"data row5 col21\" >0</td>\n",
       "      <td id=\"T_3bb60_row5_col22\" class=\"data row5 col22\" >0</td>\n",
       "      <td id=\"T_3bb60_row5_col23\" class=\"data row5 col23\" >0</td>\n",
       "      <td id=\"T_3bb60_row5_col24\" class=\"data row5 col24\" >0</td>\n",
       "      <td id=\"T_3bb60_row5_col25\" class=\"data row5 col25\" >0</td>\n",
       "      <td id=\"T_3bb60_row5_col26\" class=\"data row5 col26\" >0</td>\n",
       "      <td id=\"T_3bb60_row5_col27\" class=\"data row5 col27\" >0</td>\n",
       "    </tr>\n",
       "    <tr>\n",
       "      <th id=\"T_3bb60_level0_row6\" class=\"row_heading level0 row6\" >6</th>\n",
       "      <td id=\"T_3bb60_row6_col0\" class=\"data row6 col0\" >0</td>\n",
       "      <td id=\"T_3bb60_row6_col1\" class=\"data row6 col1\" >0</td>\n",
       "      <td id=\"T_3bb60_row6_col2\" class=\"data row6 col2\" >0</td>\n",
       "      <td id=\"T_3bb60_row6_col3\" class=\"data row6 col3\" >0</td>\n",
       "      <td id=\"T_3bb60_row6_col4\" class=\"data row6 col4\" >0</td>\n",
       "      <td id=\"T_3bb60_row6_col5\" class=\"data row6 col5\" >0</td>\n",
       "      <td id=\"T_3bb60_row6_col6\" class=\"data row6 col6\" >0</td>\n",
       "      <td id=\"T_3bb60_row6_col7\" class=\"data row6 col7\" >0</td>\n",
       "      <td id=\"T_3bb60_row6_col8\" class=\"data row6 col8\" >0</td>\n",
       "      <td id=\"T_3bb60_row6_col9\" class=\"data row6 col9\" >0</td>\n",
       "      <td id=\"T_3bb60_row6_col10\" class=\"data row6 col10\" >0</td>\n",
       "      <td id=\"T_3bb60_row6_col11\" class=\"data row6 col11\" >0</td>\n",
       "      <td id=\"T_3bb60_row6_col12\" class=\"data row6 col12\" >0</td>\n",
       "      <td id=\"T_3bb60_row6_col13\" class=\"data row6 col13\" >0</td>\n",
       "      <td id=\"T_3bb60_row6_col14\" class=\"data row6 col14\" >0</td>\n",
       "      <td id=\"T_3bb60_row6_col15\" class=\"data row6 col15\" >0</td>\n",
       "      <td id=\"T_3bb60_row6_col16\" class=\"data row6 col16\" >0</td>\n",
       "      <td id=\"T_3bb60_row6_col17\" class=\"data row6 col17\" >0</td>\n",
       "      <td id=\"T_3bb60_row6_col18\" class=\"data row6 col18\" >0</td>\n",
       "      <td id=\"T_3bb60_row6_col19\" class=\"data row6 col19\" >0</td>\n",
       "      <td id=\"T_3bb60_row6_col20\" class=\"data row6 col20\" >0</td>\n",
       "      <td id=\"T_3bb60_row6_col21\" class=\"data row6 col21\" >0</td>\n",
       "      <td id=\"T_3bb60_row6_col22\" class=\"data row6 col22\" >0</td>\n",
       "      <td id=\"T_3bb60_row6_col23\" class=\"data row6 col23\" >0</td>\n",
       "      <td id=\"T_3bb60_row6_col24\" class=\"data row6 col24\" >0</td>\n",
       "      <td id=\"T_3bb60_row6_col25\" class=\"data row6 col25\" >0</td>\n",
       "      <td id=\"T_3bb60_row6_col26\" class=\"data row6 col26\" >0</td>\n",
       "      <td id=\"T_3bb60_row6_col27\" class=\"data row6 col27\" >0</td>\n",
       "    </tr>\n",
       "    <tr>\n",
       "      <th id=\"T_3bb60_level0_row7\" class=\"row_heading level0 row7\" >7</th>\n",
       "      <td id=\"T_3bb60_row7_col0\" class=\"data row7 col0\" >0</td>\n",
       "      <td id=\"T_3bb60_row7_col1\" class=\"data row7 col1\" >0</td>\n",
       "      <td id=\"T_3bb60_row7_col2\" class=\"data row7 col2\" >0</td>\n",
       "      <td id=\"T_3bb60_row7_col3\" class=\"data row7 col3\" >0</td>\n",
       "      <td id=\"T_3bb60_row7_col4\" class=\"data row7 col4\" >0</td>\n",
       "      <td id=\"T_3bb60_row7_col5\" class=\"data row7 col5\" >0</td>\n",
       "      <td id=\"T_3bb60_row7_col6\" class=\"data row7 col6\" >0</td>\n",
       "      <td id=\"T_3bb60_row7_col7\" class=\"data row7 col7\" >0</td>\n",
       "      <td id=\"T_3bb60_row7_col8\" class=\"data row7 col8\" >76</td>\n",
       "      <td id=\"T_3bb60_row7_col9\" class=\"data row7 col9\" >167</td>\n",
       "      <td id=\"T_3bb60_row7_col10\" class=\"data row7 col10\" >253</td>\n",
       "      <td id=\"T_3bb60_row7_col11\" class=\"data row7 col11\" >196</td>\n",
       "      <td id=\"T_3bb60_row7_col12\" class=\"data row7 col12\" >28</td>\n",
       "      <td id=\"T_3bb60_row7_col13\" class=\"data row7 col13\" >0</td>\n",
       "      <td id=\"T_3bb60_row7_col14\" class=\"data row7 col14\" >0</td>\n",
       "      <td id=\"T_3bb60_row7_col15\" class=\"data row7 col15\" >0</td>\n",
       "      <td id=\"T_3bb60_row7_col16\" class=\"data row7 col16\" >0</td>\n",
       "      <td id=\"T_3bb60_row7_col17\" class=\"data row7 col17\" >0</td>\n",
       "      <td id=\"T_3bb60_row7_col18\" class=\"data row7 col18\" >0</td>\n",
       "      <td id=\"T_3bb60_row7_col19\" class=\"data row7 col19\" >0</td>\n",
       "      <td id=\"T_3bb60_row7_col20\" class=\"data row7 col20\" >12</td>\n",
       "      <td id=\"T_3bb60_row7_col21\" class=\"data row7 col21\" >32</td>\n",
       "      <td id=\"T_3bb60_row7_col22\" class=\"data row7 col22\" >0</td>\n",
       "      <td id=\"T_3bb60_row7_col23\" class=\"data row7 col23\" >0</td>\n",
       "      <td id=\"T_3bb60_row7_col24\" class=\"data row7 col24\" >0</td>\n",
       "      <td id=\"T_3bb60_row7_col25\" class=\"data row7 col25\" >0</td>\n",
       "      <td id=\"T_3bb60_row7_col26\" class=\"data row7 col26\" >0</td>\n",
       "      <td id=\"T_3bb60_row7_col27\" class=\"data row7 col27\" >0</td>\n",
       "    </tr>\n",
       "    <tr>\n",
       "      <th id=\"T_3bb60_level0_row8\" class=\"row_heading level0 row8\" >8</th>\n",
       "      <td id=\"T_3bb60_row8_col0\" class=\"data row8 col0\" >0</td>\n",
       "      <td id=\"T_3bb60_row8_col1\" class=\"data row8 col1\" >0</td>\n",
       "      <td id=\"T_3bb60_row8_col2\" class=\"data row8 col2\" >0</td>\n",
       "      <td id=\"T_3bb60_row8_col3\" class=\"data row8 col3\" >0</td>\n",
       "      <td id=\"T_3bb60_row8_col4\" class=\"data row8 col4\" >0</td>\n",
       "      <td id=\"T_3bb60_row8_col5\" class=\"data row8 col5\" >0</td>\n",
       "      <td id=\"T_3bb60_row8_col6\" class=\"data row8 col6\" >0</td>\n",
       "      <td id=\"T_3bb60_row8_col7\" class=\"data row8 col7\" >27</td>\n",
       "      <td id=\"T_3bb60_row8_col8\" class=\"data row8 col8\" >212</td>\n",
       "      <td id=\"T_3bb60_row8_col9\" class=\"data row8 col9\" >252</td>\n",
       "      <td id=\"T_3bb60_row8_col10\" class=\"data row8 col10\" >252</td>\n",
       "      <td id=\"T_3bb60_row8_col11\" class=\"data row8 col11\" >252</td>\n",
       "      <td id=\"T_3bb60_row8_col12\" class=\"data row8 col12\" >220</td>\n",
       "      <td id=\"T_3bb60_row8_col13\" class=\"data row8 col13\" >67</td>\n",
       "      <td id=\"T_3bb60_row8_col14\" class=\"data row8 col14\" >67</td>\n",
       "      <td id=\"T_3bb60_row8_col15\" class=\"data row8 col15\" >67</td>\n",
       "      <td id=\"T_3bb60_row8_col16\" class=\"data row8 col16\" >96</td>\n",
       "      <td id=\"T_3bb60_row8_col17\" class=\"data row8 col17\" >86</td>\n",
       "      <td id=\"T_3bb60_row8_col18\" class=\"data row8 col18\" >76</td>\n",
       "      <td id=\"T_3bb60_row8_col19\" class=\"data row8 col19\" >105</td>\n",
       "      <td id=\"T_3bb60_row8_col20\" class=\"data row8 col20\" >179</td>\n",
       "      <td id=\"T_3bb60_row8_col21\" class=\"data row8 col21\" >241</td>\n",
       "      <td id=\"T_3bb60_row8_col22\" class=\"data row8 col22\" >0</td>\n",
       "      <td id=\"T_3bb60_row8_col23\" class=\"data row8 col23\" >0</td>\n",
       "      <td id=\"T_3bb60_row8_col24\" class=\"data row8 col24\" >0</td>\n",
       "      <td id=\"T_3bb60_row8_col25\" class=\"data row8 col25\" >0</td>\n",
       "      <td id=\"T_3bb60_row8_col26\" class=\"data row8 col26\" >0</td>\n",
       "      <td id=\"T_3bb60_row8_col27\" class=\"data row8 col27\" >0</td>\n",
       "    </tr>\n",
       "    <tr>\n",
       "      <th id=\"T_3bb60_level0_row9\" class=\"row_heading level0 row9\" >9</th>\n",
       "      <td id=\"T_3bb60_row9_col0\" class=\"data row9 col0\" >0</td>\n",
       "      <td id=\"T_3bb60_row9_col1\" class=\"data row9 col1\" >0</td>\n",
       "      <td id=\"T_3bb60_row9_col2\" class=\"data row9 col2\" >0</td>\n",
       "      <td id=\"T_3bb60_row9_col3\" class=\"data row9 col3\" >0</td>\n",
       "      <td id=\"T_3bb60_row9_col4\" class=\"data row9 col4\" >0</td>\n",
       "      <td id=\"T_3bb60_row9_col5\" class=\"data row9 col5\" >0</td>\n",
       "      <td id=\"T_3bb60_row9_col6\" class=\"data row9 col6\" >27</td>\n",
       "      <td id=\"T_3bb60_row9_col7\" class=\"data row9 col7\" >207</td>\n",
       "      <td id=\"T_3bb60_row9_col8\" class=\"data row9 col8\" >252</td>\n",
       "      <td id=\"T_3bb60_row9_col9\" class=\"data row9 col9\" >252</td>\n",
       "      <td id=\"T_3bb60_row9_col10\" class=\"data row9 col10\" >252</td>\n",
       "      <td id=\"T_3bb60_row9_col11\" class=\"data row9 col11\" >252</td>\n",
       "      <td id=\"T_3bb60_row9_col12\" class=\"data row9 col12\" >252</td>\n",
       "      <td id=\"T_3bb60_row9_col13\" class=\"data row9 col13\" >252</td>\n",
       "      <td id=\"T_3bb60_row9_col14\" class=\"data row9 col14\" >252</td>\n",
       "      <td id=\"T_3bb60_row9_col15\" class=\"data row9 col15\" >253</td>\n",
       "      <td id=\"T_3bb60_row9_col16\" class=\"data row9 col16\" >252</td>\n",
       "      <td id=\"T_3bb60_row9_col17\" class=\"data row9 col17\" >252</td>\n",
       "      <td id=\"T_3bb60_row9_col18\" class=\"data row9 col18\" >252</td>\n",
       "      <td id=\"T_3bb60_row9_col19\" class=\"data row9 col19\" >252</td>\n",
       "      <td id=\"T_3bb60_row9_col20\" class=\"data row9 col20\" >252</td>\n",
       "      <td id=\"T_3bb60_row9_col21\" class=\"data row9 col21\" >250</td>\n",
       "      <td id=\"T_3bb60_row9_col22\" class=\"data row9 col22\" >82</td>\n",
       "      <td id=\"T_3bb60_row9_col23\" class=\"data row9 col23\" >0</td>\n",
       "      <td id=\"T_3bb60_row9_col24\" class=\"data row9 col24\" >0</td>\n",
       "      <td id=\"T_3bb60_row9_col25\" class=\"data row9 col25\" >0</td>\n",
       "      <td id=\"T_3bb60_row9_col26\" class=\"data row9 col26\" >0</td>\n",
       "      <td id=\"T_3bb60_row9_col27\" class=\"data row9 col27\" >0</td>\n",
       "    </tr>\n",
       "    <tr>\n",
       "      <th id=\"T_3bb60_level0_row10\" class=\"row_heading level0 row10\" >10</th>\n",
       "      <td id=\"T_3bb60_row10_col0\" class=\"data row10 col0\" >0</td>\n",
       "      <td id=\"T_3bb60_row10_col1\" class=\"data row10 col1\" >0</td>\n",
       "      <td id=\"T_3bb60_row10_col2\" class=\"data row10 col2\" >0</td>\n",
       "      <td id=\"T_3bb60_row10_col3\" class=\"data row10 col3\" >0</td>\n",
       "      <td id=\"T_3bb60_row10_col4\" class=\"data row10 col4\" >0</td>\n",
       "      <td id=\"T_3bb60_row10_col5\" class=\"data row10 col5\" >0</td>\n",
       "      <td id=\"T_3bb60_row10_col6\" class=\"data row10 col6\" >67</td>\n",
       "      <td id=\"T_3bb60_row10_col7\" class=\"data row10 col7\" >252</td>\n",
       "      <td id=\"T_3bb60_row10_col8\" class=\"data row10 col8\" >252</td>\n",
       "      <td id=\"T_3bb60_row10_col9\" class=\"data row10 col9\" >252</td>\n",
       "      <td id=\"T_3bb60_row10_col10\" class=\"data row10 col10\" >252</td>\n",
       "      <td id=\"T_3bb60_row10_col11\" class=\"data row10 col11\" >252</td>\n",
       "      <td id=\"T_3bb60_row10_col12\" class=\"data row10 col12\" >252</td>\n",
       "      <td id=\"T_3bb60_row10_col13\" class=\"data row10 col13\" >252</td>\n",
       "      <td id=\"T_3bb60_row10_col14\" class=\"data row10 col14\" >252</td>\n",
       "      <td id=\"T_3bb60_row10_col15\" class=\"data row10 col15\" >253</td>\n",
       "      <td id=\"T_3bb60_row10_col16\" class=\"data row10 col16\" >252</td>\n",
       "      <td id=\"T_3bb60_row10_col17\" class=\"data row10 col17\" >252</td>\n",
       "      <td id=\"T_3bb60_row10_col18\" class=\"data row10 col18\" >252</td>\n",
       "      <td id=\"T_3bb60_row10_col19\" class=\"data row10 col19\" >252</td>\n",
       "      <td id=\"T_3bb60_row10_col20\" class=\"data row10 col20\" >252</td>\n",
       "      <td id=\"T_3bb60_row10_col21\" class=\"data row10 col21\" >252</td>\n",
       "      <td id=\"T_3bb60_row10_col22\" class=\"data row10 col22\" >156</td>\n",
       "      <td id=\"T_3bb60_row10_col23\" class=\"data row10 col23\" >0</td>\n",
       "      <td id=\"T_3bb60_row10_col24\" class=\"data row10 col24\" >0</td>\n",
       "      <td id=\"T_3bb60_row10_col25\" class=\"data row10 col25\" >0</td>\n",
       "      <td id=\"T_3bb60_row10_col26\" class=\"data row10 col26\" >0</td>\n",
       "      <td id=\"T_3bb60_row10_col27\" class=\"data row10 col27\" >0</td>\n",
       "    </tr>\n",
       "    <tr>\n",
       "      <th id=\"T_3bb60_level0_row11\" class=\"row_heading level0 row11\" >11</th>\n",
       "      <td id=\"T_3bb60_row11_col0\" class=\"data row11 col0\" >0</td>\n",
       "      <td id=\"T_3bb60_row11_col1\" class=\"data row11 col1\" >0</td>\n",
       "      <td id=\"T_3bb60_row11_col2\" class=\"data row11 col2\" >0</td>\n",
       "      <td id=\"T_3bb60_row11_col3\" class=\"data row11 col3\" >0</td>\n",
       "      <td id=\"T_3bb60_row11_col4\" class=\"data row11 col4\" >0</td>\n",
       "      <td id=\"T_3bb60_row11_col5\" class=\"data row11 col5\" >0</td>\n",
       "      <td id=\"T_3bb60_row11_col6\" class=\"data row11 col6\" >67</td>\n",
       "      <td id=\"T_3bb60_row11_col7\" class=\"data row11 col7\" >252</td>\n",
       "      <td id=\"T_3bb60_row11_col8\" class=\"data row11 col8\" >252</td>\n",
       "      <td id=\"T_3bb60_row11_col9\" class=\"data row11 col9\" >252</td>\n",
       "      <td id=\"T_3bb60_row11_col10\" class=\"data row11 col10\" >252</td>\n",
       "      <td id=\"T_3bb60_row11_col11\" class=\"data row11 col11\" >252</td>\n",
       "      <td id=\"T_3bb60_row11_col12\" class=\"data row11 col12\" >252</td>\n",
       "      <td id=\"T_3bb60_row11_col13\" class=\"data row11 col13\" >252</td>\n",
       "      <td id=\"T_3bb60_row11_col14\" class=\"data row11 col14\" >252</td>\n",
       "      <td id=\"T_3bb60_row11_col15\" class=\"data row11 col15\" >253</td>\n",
       "      <td id=\"T_3bb60_row11_col16\" class=\"data row11 col16\" >252</td>\n",
       "      <td id=\"T_3bb60_row11_col17\" class=\"data row11 col17\" >252</td>\n",
       "      <td id=\"T_3bb60_row11_col18\" class=\"data row11 col18\" >252</td>\n",
       "      <td id=\"T_3bb60_row11_col19\" class=\"data row11 col19\" >252</td>\n",
       "      <td id=\"T_3bb60_row11_col20\" class=\"data row11 col20\" >252</td>\n",
       "      <td id=\"T_3bb60_row11_col21\" class=\"data row11 col21\" >252</td>\n",
       "      <td id=\"T_3bb60_row11_col22\" class=\"data row11 col22\" >184</td>\n",
       "      <td id=\"T_3bb60_row11_col23\" class=\"data row11 col23\" >0</td>\n",
       "      <td id=\"T_3bb60_row11_col24\" class=\"data row11 col24\" >0</td>\n",
       "      <td id=\"T_3bb60_row11_col25\" class=\"data row11 col25\" >0</td>\n",
       "      <td id=\"T_3bb60_row11_col26\" class=\"data row11 col26\" >0</td>\n",
       "      <td id=\"T_3bb60_row11_col27\" class=\"data row11 col27\" >0</td>\n",
       "    </tr>\n",
       "    <tr>\n",
       "      <th id=\"T_3bb60_level0_row12\" class=\"row_heading level0 row12\" >12</th>\n",
       "      <td id=\"T_3bb60_row12_col0\" class=\"data row12 col0\" >0</td>\n",
       "      <td id=\"T_3bb60_row12_col1\" class=\"data row12 col1\" >0</td>\n",
       "      <td id=\"T_3bb60_row12_col2\" class=\"data row12 col2\" >0</td>\n",
       "      <td id=\"T_3bb60_row12_col3\" class=\"data row12 col3\" >0</td>\n",
       "      <td id=\"T_3bb60_row12_col4\" class=\"data row12 col4\" >0</td>\n",
       "      <td id=\"T_3bb60_row12_col5\" class=\"data row12 col5\" >0</td>\n",
       "      <td id=\"T_3bb60_row12_col6\" class=\"data row12 col6\" >67</td>\n",
       "      <td id=\"T_3bb60_row12_col7\" class=\"data row12 col7\" >252</td>\n",
       "      <td id=\"T_3bb60_row12_col8\" class=\"data row12 col8\" >252</td>\n",
       "      <td id=\"T_3bb60_row12_col9\" class=\"data row12 col9\" >252</td>\n",
       "      <td id=\"T_3bb60_row12_col10\" class=\"data row12 col10\" >252</td>\n",
       "      <td id=\"T_3bb60_row12_col11\" class=\"data row12 col11\" >252</td>\n",
       "      <td id=\"T_3bb60_row12_col12\" class=\"data row12 col12\" >252</td>\n",
       "      <td id=\"T_3bb60_row12_col13\" class=\"data row12 col13\" >252</td>\n",
       "      <td id=\"T_3bb60_row12_col14\" class=\"data row12 col14\" >214</td>\n",
       "      <td id=\"T_3bb60_row12_col15\" class=\"data row12 col15\" >103</td>\n",
       "      <td id=\"T_3bb60_row12_col16\" class=\"data row12 col16\" >84</td>\n",
       "      <td id=\"T_3bb60_row12_col17\" class=\"data row12 col17\" >117</td>\n",
       "      <td id=\"T_3bb60_row12_col18\" class=\"data row12 col18\" >249</td>\n",
       "      <td id=\"T_3bb60_row12_col19\" class=\"data row12 col19\" >252</td>\n",
       "      <td id=\"T_3bb60_row12_col20\" class=\"data row12 col20\" >252</td>\n",
       "      <td id=\"T_3bb60_row12_col21\" class=\"data row12 col21\" >248</td>\n",
       "      <td id=\"T_3bb60_row12_col22\" class=\"data row12 col22\" >64</td>\n",
       "      <td id=\"T_3bb60_row12_col23\" class=\"data row12 col23\" >0</td>\n",
       "      <td id=\"T_3bb60_row12_col24\" class=\"data row12 col24\" >0</td>\n",
       "      <td id=\"T_3bb60_row12_col25\" class=\"data row12 col25\" >0</td>\n",
       "      <td id=\"T_3bb60_row12_col26\" class=\"data row12 col26\" >0</td>\n",
       "      <td id=\"T_3bb60_row12_col27\" class=\"data row12 col27\" >0</td>\n",
       "    </tr>\n",
       "    <tr>\n",
       "      <th id=\"T_3bb60_level0_row13\" class=\"row_heading level0 row13\" >13</th>\n",
       "      <td id=\"T_3bb60_row13_col0\" class=\"data row13 col0\" >0</td>\n",
       "      <td id=\"T_3bb60_row13_col1\" class=\"data row13 col1\" >0</td>\n",
       "      <td id=\"T_3bb60_row13_col2\" class=\"data row13 col2\" >0</td>\n",
       "      <td id=\"T_3bb60_row13_col3\" class=\"data row13 col3\" >0</td>\n",
       "      <td id=\"T_3bb60_row13_col4\" class=\"data row13 col4\" >0</td>\n",
       "      <td id=\"T_3bb60_row13_col5\" class=\"data row13 col5\" >0</td>\n",
       "      <td id=\"T_3bb60_row13_col6\" class=\"data row13 col6\" >67</td>\n",
       "      <td id=\"T_3bb60_row13_col7\" class=\"data row13 col7\" >252</td>\n",
       "      <td id=\"T_3bb60_row13_col8\" class=\"data row13 col8\" >252</td>\n",
       "      <td id=\"T_3bb60_row13_col9\" class=\"data row13 col9\" >245</td>\n",
       "      <td id=\"T_3bb60_row13_col10\" class=\"data row13 col10\" >241</td>\n",
       "      <td id=\"T_3bb60_row13_col11\" class=\"data row13 col11\" >188</td>\n",
       "      <td id=\"T_3bb60_row13_col12\" class=\"data row13 col12\" >131</td>\n",
       "      <td id=\"T_3bb60_row13_col13\" class=\"data row13 col13\" >50</td>\n",
       "      <td id=\"T_3bb60_row13_col14\" class=\"data row13 col14\" >12</td>\n",
       "      <td id=\"T_3bb60_row13_col15\" class=\"data row13 col15\" >0</td>\n",
       "      <td id=\"T_3bb60_row13_col16\" class=\"data row13 col16\" >8</td>\n",
       "      <td id=\"T_3bb60_row13_col17\" class=\"data row13 col17\" >146</td>\n",
       "      <td id=\"T_3bb60_row13_col18\" class=\"data row13 col18\" >251</td>\n",
       "      <td id=\"T_3bb60_row13_col19\" class=\"data row13 col19\" >252</td>\n",
       "      <td id=\"T_3bb60_row13_col20\" class=\"data row13 col20\" >248</td>\n",
       "      <td id=\"T_3bb60_row13_col21\" class=\"data row13 col21\" >182</td>\n",
       "      <td id=\"T_3bb60_row13_col22\" class=\"data row13 col22\" >0</td>\n",
       "      <td id=\"T_3bb60_row13_col23\" class=\"data row13 col23\" >0</td>\n",
       "      <td id=\"T_3bb60_row13_col24\" class=\"data row13 col24\" >0</td>\n",
       "      <td id=\"T_3bb60_row13_col25\" class=\"data row13 col25\" >0</td>\n",
       "      <td id=\"T_3bb60_row13_col26\" class=\"data row13 col26\" >0</td>\n",
       "      <td id=\"T_3bb60_row13_col27\" class=\"data row13 col27\" >0</td>\n",
       "    </tr>\n",
       "    <tr>\n",
       "      <th id=\"T_3bb60_level0_row14\" class=\"row_heading level0 row14\" >14</th>\n",
       "      <td id=\"T_3bb60_row14_col0\" class=\"data row14 col0\" >0</td>\n",
       "      <td id=\"T_3bb60_row14_col1\" class=\"data row14 col1\" >0</td>\n",
       "      <td id=\"T_3bb60_row14_col2\" class=\"data row14 col2\" >0</td>\n",
       "      <td id=\"T_3bb60_row14_col3\" class=\"data row14 col3\" >0</td>\n",
       "      <td id=\"T_3bb60_row14_col4\" class=\"data row14 col4\" >0</td>\n",
       "      <td id=\"T_3bb60_row14_col5\" class=\"data row14 col5\" >0</td>\n",
       "      <td id=\"T_3bb60_row14_col6\" class=\"data row14 col6\" >26</td>\n",
       "      <td id=\"T_3bb60_row14_col7\" class=\"data row14 col7\" >99</td>\n",
       "      <td id=\"T_3bb60_row14_col8\" class=\"data row14 col8\" >99</td>\n",
       "      <td id=\"T_3bb60_row14_col9\" class=\"data row14 col9\" >34</td>\n",
       "      <td id=\"T_3bb60_row14_col10\" class=\"data row14 col10\" >0</td>\n",
       "      <td id=\"T_3bb60_row14_col11\" class=\"data row14 col11\" >0</td>\n",
       "      <td id=\"T_3bb60_row14_col12\" class=\"data row14 col12\" >0</td>\n",
       "      <td id=\"T_3bb60_row14_col13\" class=\"data row14 col13\" >0</td>\n",
       "      <td id=\"T_3bb60_row14_col14\" class=\"data row14 col14\" >0</td>\n",
       "      <td id=\"T_3bb60_row14_col15\" class=\"data row14 col15\" >0</td>\n",
       "      <td id=\"T_3bb60_row14_col16\" class=\"data row14 col16\" >176</td>\n",
       "      <td id=\"T_3bb60_row14_col17\" class=\"data row14 col17\" >252</td>\n",
       "      <td id=\"T_3bb60_row14_col18\" class=\"data row14 col18\" >252</td>\n",
       "      <td id=\"T_3bb60_row14_col19\" class=\"data row14 col19\" >252</td>\n",
       "      <td id=\"T_3bb60_row14_col20\" class=\"data row14 col20\" >117</td>\n",
       "      <td id=\"T_3bb60_row14_col21\" class=\"data row14 col21\" >0</td>\n",
       "      <td id=\"T_3bb60_row14_col22\" class=\"data row14 col22\" >0</td>\n",
       "      <td id=\"T_3bb60_row14_col23\" class=\"data row14 col23\" >0</td>\n",
       "      <td id=\"T_3bb60_row14_col24\" class=\"data row14 col24\" >0</td>\n",
       "      <td id=\"T_3bb60_row14_col25\" class=\"data row14 col25\" >0</td>\n",
       "      <td id=\"T_3bb60_row14_col26\" class=\"data row14 col26\" >0</td>\n",
       "      <td id=\"T_3bb60_row14_col27\" class=\"data row14 col27\" >0</td>\n",
       "    </tr>\n",
       "    <tr>\n",
       "      <th id=\"T_3bb60_level0_row15\" class=\"row_heading level0 row15\" >15</th>\n",
       "      <td id=\"T_3bb60_row15_col0\" class=\"data row15 col0\" >0</td>\n",
       "      <td id=\"T_3bb60_row15_col1\" class=\"data row15 col1\" >0</td>\n",
       "      <td id=\"T_3bb60_row15_col2\" class=\"data row15 col2\" >0</td>\n",
       "      <td id=\"T_3bb60_row15_col3\" class=\"data row15 col3\" >0</td>\n",
       "      <td id=\"T_3bb60_row15_col4\" class=\"data row15 col4\" >0</td>\n",
       "      <td id=\"T_3bb60_row15_col5\" class=\"data row15 col5\" >0</td>\n",
       "      <td id=\"T_3bb60_row15_col6\" class=\"data row15 col6\" >0</td>\n",
       "      <td id=\"T_3bb60_row15_col7\" class=\"data row15 col7\" >0</td>\n",
       "      <td id=\"T_3bb60_row15_col8\" class=\"data row15 col8\" >0</td>\n",
       "      <td id=\"T_3bb60_row15_col9\" class=\"data row15 col9\" >0</td>\n",
       "      <td id=\"T_3bb60_row15_col10\" class=\"data row15 col10\" >0</td>\n",
       "      <td id=\"T_3bb60_row15_col11\" class=\"data row15 col11\" >0</td>\n",
       "      <td id=\"T_3bb60_row15_col12\" class=\"data row15 col12\" >0</td>\n",
       "      <td id=\"T_3bb60_row15_col13\" class=\"data row15 col13\" >0</td>\n",
       "      <td id=\"T_3bb60_row15_col14\" class=\"data row15 col14\" >0</td>\n",
       "      <td id=\"T_3bb60_row15_col15\" class=\"data row15 col15\" >59</td>\n",
       "      <td id=\"T_3bb60_row15_col16\" class=\"data row15 col16\" >233</td>\n",
       "      <td id=\"T_3bb60_row15_col17\" class=\"data row15 col17\" >252</td>\n",
       "      <td id=\"T_3bb60_row15_col18\" class=\"data row15 col18\" >252</td>\n",
       "      <td id=\"T_3bb60_row15_col19\" class=\"data row15 col19\" >252</td>\n",
       "      <td id=\"T_3bb60_row15_col20\" class=\"data row15 col20\" >83</td>\n",
       "      <td id=\"T_3bb60_row15_col21\" class=\"data row15 col21\" >0</td>\n",
       "      <td id=\"T_3bb60_row15_col22\" class=\"data row15 col22\" >0</td>\n",
       "      <td id=\"T_3bb60_row15_col23\" class=\"data row15 col23\" >0</td>\n",
       "      <td id=\"T_3bb60_row15_col24\" class=\"data row15 col24\" >0</td>\n",
       "      <td id=\"T_3bb60_row15_col25\" class=\"data row15 col25\" >0</td>\n",
       "      <td id=\"T_3bb60_row15_col26\" class=\"data row15 col26\" >0</td>\n",
       "      <td id=\"T_3bb60_row15_col27\" class=\"data row15 col27\" >0</td>\n",
       "    </tr>\n",
       "    <tr>\n",
       "      <th id=\"T_3bb60_level0_row16\" class=\"row_heading level0 row16\" >16</th>\n",
       "      <td id=\"T_3bb60_row16_col0\" class=\"data row16 col0\" >0</td>\n",
       "      <td id=\"T_3bb60_row16_col1\" class=\"data row16 col1\" >0</td>\n",
       "      <td id=\"T_3bb60_row16_col2\" class=\"data row16 col2\" >0</td>\n",
       "      <td id=\"T_3bb60_row16_col3\" class=\"data row16 col3\" >0</td>\n",
       "      <td id=\"T_3bb60_row16_col4\" class=\"data row16 col4\" >0</td>\n",
       "      <td id=\"T_3bb60_row16_col5\" class=\"data row16 col5\" >0</td>\n",
       "      <td id=\"T_3bb60_row16_col6\" class=\"data row16 col6\" >0</td>\n",
       "      <td id=\"T_3bb60_row16_col7\" class=\"data row16 col7\" >0</td>\n",
       "      <td id=\"T_3bb60_row16_col8\" class=\"data row16 col8\" >0</td>\n",
       "      <td id=\"T_3bb60_row16_col9\" class=\"data row16 col9\" >0</td>\n",
       "      <td id=\"T_3bb60_row16_col10\" class=\"data row16 col10\" >0</td>\n",
       "      <td id=\"T_3bb60_row16_col11\" class=\"data row16 col11\" >0</td>\n",
       "      <td id=\"T_3bb60_row16_col12\" class=\"data row16 col12\" >0</td>\n",
       "      <td id=\"T_3bb60_row16_col13\" class=\"data row16 col13\" >0</td>\n",
       "      <td id=\"T_3bb60_row16_col14\" class=\"data row16 col14\" >0</td>\n",
       "      <td id=\"T_3bb60_row16_col15\" class=\"data row16 col15\" >239</td>\n",
       "      <td id=\"T_3bb60_row16_col16\" class=\"data row16 col16\" >252</td>\n",
       "      <td id=\"T_3bb60_row16_col17\" class=\"data row16 col17\" >252</td>\n",
       "      <td id=\"T_3bb60_row16_col18\" class=\"data row16 col18\" >252</td>\n",
       "      <td id=\"T_3bb60_row16_col19\" class=\"data row16 col19\" >109</td>\n",
       "      <td id=\"T_3bb60_row16_col20\" class=\"data row16 col20\" >7</td>\n",
       "      <td id=\"T_3bb60_row16_col21\" class=\"data row16 col21\" >0</td>\n",
       "      <td id=\"T_3bb60_row16_col22\" class=\"data row16 col22\" >0</td>\n",
       "      <td id=\"T_3bb60_row16_col23\" class=\"data row16 col23\" >0</td>\n",
       "      <td id=\"T_3bb60_row16_col24\" class=\"data row16 col24\" >0</td>\n",
       "      <td id=\"T_3bb60_row16_col25\" class=\"data row16 col25\" >0</td>\n",
       "      <td id=\"T_3bb60_row16_col26\" class=\"data row16 col26\" >0</td>\n",
       "      <td id=\"T_3bb60_row16_col27\" class=\"data row16 col27\" >0</td>\n",
       "    </tr>\n",
       "    <tr>\n",
       "      <th id=\"T_3bb60_level0_row17\" class=\"row_heading level0 row17\" >17</th>\n",
       "      <td id=\"T_3bb60_row17_col0\" class=\"data row17 col0\" >0</td>\n",
       "      <td id=\"T_3bb60_row17_col1\" class=\"data row17 col1\" >0</td>\n",
       "      <td id=\"T_3bb60_row17_col2\" class=\"data row17 col2\" >0</td>\n",
       "      <td id=\"T_3bb60_row17_col3\" class=\"data row17 col3\" >0</td>\n",
       "      <td id=\"T_3bb60_row17_col4\" class=\"data row17 col4\" >0</td>\n",
       "      <td id=\"T_3bb60_row17_col5\" class=\"data row17 col5\" >0</td>\n",
       "      <td id=\"T_3bb60_row17_col6\" class=\"data row17 col6\" >0</td>\n",
       "      <td id=\"T_3bb60_row17_col7\" class=\"data row17 col7\" >0</td>\n",
       "      <td id=\"T_3bb60_row17_col8\" class=\"data row17 col8\" >0</td>\n",
       "      <td id=\"T_3bb60_row17_col9\" class=\"data row17 col9\" >0</td>\n",
       "      <td id=\"T_3bb60_row17_col10\" class=\"data row17 col10\" >0</td>\n",
       "      <td id=\"T_3bb60_row17_col11\" class=\"data row17 col11\" >0</td>\n",
       "      <td id=\"T_3bb60_row17_col12\" class=\"data row17 col12\" >6</td>\n",
       "      <td id=\"T_3bb60_row17_col13\" class=\"data row17 col13\" >67</td>\n",
       "      <td id=\"T_3bb60_row17_col14\" class=\"data row17 col14\" >239</td>\n",
       "      <td id=\"T_3bb60_row17_col15\" class=\"data row17 col15\" >255</td>\n",
       "      <td id=\"T_3bb60_row17_col16\" class=\"data row17 col16\" >253</td>\n",
       "      <td id=\"T_3bb60_row17_col17\" class=\"data row17 col17\" >253</td>\n",
       "      <td id=\"T_3bb60_row17_col18\" class=\"data row17 col18\" >154</td>\n",
       "      <td id=\"T_3bb60_row17_col19\" class=\"data row17 col19\" >0</td>\n",
       "      <td id=\"T_3bb60_row17_col20\" class=\"data row17 col20\" >0</td>\n",
       "      <td id=\"T_3bb60_row17_col21\" class=\"data row17 col21\" >0</td>\n",
       "      <td id=\"T_3bb60_row17_col22\" class=\"data row17 col22\" >0</td>\n",
       "      <td id=\"T_3bb60_row17_col23\" class=\"data row17 col23\" >0</td>\n",
       "      <td id=\"T_3bb60_row17_col24\" class=\"data row17 col24\" >0</td>\n",
       "      <td id=\"T_3bb60_row17_col25\" class=\"data row17 col25\" >0</td>\n",
       "      <td id=\"T_3bb60_row17_col26\" class=\"data row17 col26\" >0</td>\n",
       "      <td id=\"T_3bb60_row17_col27\" class=\"data row17 col27\" >0</td>\n",
       "    </tr>\n",
       "    <tr>\n",
       "      <th id=\"T_3bb60_level0_row18\" class=\"row_heading level0 row18\" >18</th>\n",
       "      <td id=\"T_3bb60_row18_col0\" class=\"data row18 col0\" >0</td>\n",
       "      <td id=\"T_3bb60_row18_col1\" class=\"data row18 col1\" >0</td>\n",
       "      <td id=\"T_3bb60_row18_col2\" class=\"data row18 col2\" >0</td>\n",
       "      <td id=\"T_3bb60_row18_col3\" class=\"data row18 col3\" >0</td>\n",
       "      <td id=\"T_3bb60_row18_col4\" class=\"data row18 col4\" >0</td>\n",
       "      <td id=\"T_3bb60_row18_col5\" class=\"data row18 col5\" >0</td>\n",
       "      <td id=\"T_3bb60_row18_col6\" class=\"data row18 col6\" >0</td>\n",
       "      <td id=\"T_3bb60_row18_col7\" class=\"data row18 col7\" >0</td>\n",
       "      <td id=\"T_3bb60_row18_col8\" class=\"data row18 col8\" >0</td>\n",
       "      <td id=\"T_3bb60_row18_col9\" class=\"data row18 col9\" >0</td>\n",
       "      <td id=\"T_3bb60_row18_col10\" class=\"data row18 col10\" >0</td>\n",
       "      <td id=\"T_3bb60_row18_col11\" class=\"data row18 col11\" >0</td>\n",
       "      <td id=\"T_3bb60_row18_col12\" class=\"data row18 col12\" >45</td>\n",
       "      <td id=\"T_3bb60_row18_col13\" class=\"data row18 col13\" >252</td>\n",
       "      <td id=\"T_3bb60_row18_col14\" class=\"data row18 col14\" >252</td>\n",
       "      <td id=\"T_3bb60_row18_col15\" class=\"data row18 col15\" >253</td>\n",
       "      <td id=\"T_3bb60_row18_col16\" class=\"data row18 col16\" >252</td>\n",
       "      <td id=\"T_3bb60_row18_col17\" class=\"data row18 col17\" >154</td>\n",
       "      <td id=\"T_3bb60_row18_col18\" class=\"data row18 col18\" >3</td>\n",
       "      <td id=\"T_3bb60_row18_col19\" class=\"data row18 col19\" >0</td>\n",
       "      <td id=\"T_3bb60_row18_col20\" class=\"data row18 col20\" >0</td>\n",
       "      <td id=\"T_3bb60_row18_col21\" class=\"data row18 col21\" >0</td>\n",
       "      <td id=\"T_3bb60_row18_col22\" class=\"data row18 col22\" >0</td>\n",
       "      <td id=\"T_3bb60_row18_col23\" class=\"data row18 col23\" >0</td>\n",
       "      <td id=\"T_3bb60_row18_col24\" class=\"data row18 col24\" >0</td>\n",
       "      <td id=\"T_3bb60_row18_col25\" class=\"data row18 col25\" >0</td>\n",
       "      <td id=\"T_3bb60_row18_col26\" class=\"data row18 col26\" >0</td>\n",
       "      <td id=\"T_3bb60_row18_col27\" class=\"data row18 col27\" >0</td>\n",
       "    </tr>\n",
       "    <tr>\n",
       "      <th id=\"T_3bb60_level0_row19\" class=\"row_heading level0 row19\" >19</th>\n",
       "      <td id=\"T_3bb60_row19_col0\" class=\"data row19 col0\" >0</td>\n",
       "      <td id=\"T_3bb60_row19_col1\" class=\"data row19 col1\" >0</td>\n",
       "      <td id=\"T_3bb60_row19_col2\" class=\"data row19 col2\" >0</td>\n",
       "      <td id=\"T_3bb60_row19_col3\" class=\"data row19 col3\" >0</td>\n",
       "      <td id=\"T_3bb60_row19_col4\" class=\"data row19 col4\" >0</td>\n",
       "      <td id=\"T_3bb60_row19_col5\" class=\"data row19 col5\" >0</td>\n",
       "      <td id=\"T_3bb60_row19_col6\" class=\"data row19 col6\" >0</td>\n",
       "      <td id=\"T_3bb60_row19_col7\" class=\"data row19 col7\" >0</td>\n",
       "      <td id=\"T_3bb60_row19_col8\" class=\"data row19 col8\" >0</td>\n",
       "      <td id=\"T_3bb60_row19_col9\" class=\"data row19 col9\" >0</td>\n",
       "      <td id=\"T_3bb60_row19_col10\" class=\"data row19 col10\" >0</td>\n",
       "      <td id=\"T_3bb60_row19_col11\" class=\"data row19 col11\" >0</td>\n",
       "      <td id=\"T_3bb60_row19_col12\" class=\"data row19 col12\" >135</td>\n",
       "      <td id=\"T_3bb60_row19_col13\" class=\"data row19 col13\" >252</td>\n",
       "      <td id=\"T_3bb60_row19_col14\" class=\"data row19 col14\" >252</td>\n",
       "      <td id=\"T_3bb60_row19_col15\" class=\"data row19 col15\" >253</td>\n",
       "      <td id=\"T_3bb60_row19_col16\" class=\"data row19 col16\" >197</td>\n",
       "      <td id=\"T_3bb60_row19_col17\" class=\"data row19 col17\" >8</td>\n",
       "      <td id=\"T_3bb60_row19_col18\" class=\"data row19 col18\" >0</td>\n",
       "      <td id=\"T_3bb60_row19_col19\" class=\"data row19 col19\" >0</td>\n",
       "      <td id=\"T_3bb60_row19_col20\" class=\"data row19 col20\" >0</td>\n",
       "      <td id=\"T_3bb60_row19_col21\" class=\"data row19 col21\" >0</td>\n",
       "      <td id=\"T_3bb60_row19_col22\" class=\"data row19 col22\" >0</td>\n",
       "      <td id=\"T_3bb60_row19_col23\" class=\"data row19 col23\" >0</td>\n",
       "      <td id=\"T_3bb60_row19_col24\" class=\"data row19 col24\" >0</td>\n",
       "      <td id=\"T_3bb60_row19_col25\" class=\"data row19 col25\" >0</td>\n",
       "      <td id=\"T_3bb60_row19_col26\" class=\"data row19 col26\" >0</td>\n",
       "      <td id=\"T_3bb60_row19_col27\" class=\"data row19 col27\" >0</td>\n",
       "    </tr>\n",
       "    <tr>\n",
       "      <th id=\"T_3bb60_level0_row20\" class=\"row_heading level0 row20\" >20</th>\n",
       "      <td id=\"T_3bb60_row20_col0\" class=\"data row20 col0\" >0</td>\n",
       "      <td id=\"T_3bb60_row20_col1\" class=\"data row20 col1\" >0</td>\n",
       "      <td id=\"T_3bb60_row20_col2\" class=\"data row20 col2\" >0</td>\n",
       "      <td id=\"T_3bb60_row20_col3\" class=\"data row20 col3\" >0</td>\n",
       "      <td id=\"T_3bb60_row20_col4\" class=\"data row20 col4\" >0</td>\n",
       "      <td id=\"T_3bb60_row20_col5\" class=\"data row20 col5\" >0</td>\n",
       "      <td id=\"T_3bb60_row20_col6\" class=\"data row20 col6\" >0</td>\n",
       "      <td id=\"T_3bb60_row20_col7\" class=\"data row20 col7\" >0</td>\n",
       "      <td id=\"T_3bb60_row20_col8\" class=\"data row20 col8\" >0</td>\n",
       "      <td id=\"T_3bb60_row20_col9\" class=\"data row20 col9\" >0</td>\n",
       "      <td id=\"T_3bb60_row20_col10\" class=\"data row20 col10\" >0</td>\n",
       "      <td id=\"T_3bb60_row20_col11\" class=\"data row20 col11\" >127</td>\n",
       "      <td id=\"T_3bb60_row20_col12\" class=\"data row20 col12\" >248</td>\n",
       "      <td id=\"T_3bb60_row20_col13\" class=\"data row20 col13\" >252</td>\n",
       "      <td id=\"T_3bb60_row20_col14\" class=\"data row20 col14\" >252</td>\n",
       "      <td id=\"T_3bb60_row20_col15\" class=\"data row20 col15\" >217</td>\n",
       "      <td id=\"T_3bb60_row20_col16\" class=\"data row20 col16\" >41</td>\n",
       "      <td id=\"T_3bb60_row20_col17\" class=\"data row20 col17\" >0</td>\n",
       "      <td id=\"T_3bb60_row20_col18\" class=\"data row20 col18\" >0</td>\n",
       "      <td id=\"T_3bb60_row20_col19\" class=\"data row20 col19\" >0</td>\n",
       "      <td id=\"T_3bb60_row20_col20\" class=\"data row20 col20\" >0</td>\n",
       "      <td id=\"T_3bb60_row20_col21\" class=\"data row20 col21\" >0</td>\n",
       "      <td id=\"T_3bb60_row20_col22\" class=\"data row20 col22\" >0</td>\n",
       "      <td id=\"T_3bb60_row20_col23\" class=\"data row20 col23\" >0</td>\n",
       "      <td id=\"T_3bb60_row20_col24\" class=\"data row20 col24\" >0</td>\n",
       "      <td id=\"T_3bb60_row20_col25\" class=\"data row20 col25\" >0</td>\n",
       "      <td id=\"T_3bb60_row20_col26\" class=\"data row20 col26\" >0</td>\n",
       "      <td id=\"T_3bb60_row20_col27\" class=\"data row20 col27\" >0</td>\n",
       "    </tr>\n",
       "    <tr>\n",
       "      <th id=\"T_3bb60_level0_row21\" class=\"row_heading level0 row21\" >21</th>\n",
       "      <td id=\"T_3bb60_row21_col0\" class=\"data row21 col0\" >0</td>\n",
       "      <td id=\"T_3bb60_row21_col1\" class=\"data row21 col1\" >0</td>\n",
       "      <td id=\"T_3bb60_row21_col2\" class=\"data row21 col2\" >0</td>\n",
       "      <td id=\"T_3bb60_row21_col3\" class=\"data row21 col3\" >0</td>\n",
       "      <td id=\"T_3bb60_row21_col4\" class=\"data row21 col4\" >0</td>\n",
       "      <td id=\"T_3bb60_row21_col5\" class=\"data row21 col5\" >0</td>\n",
       "      <td id=\"T_3bb60_row21_col6\" class=\"data row21 col6\" >0</td>\n",
       "      <td id=\"T_3bb60_row21_col7\" class=\"data row21 col7\" >0</td>\n",
       "      <td id=\"T_3bb60_row21_col8\" class=\"data row21 col8\" >0</td>\n",
       "      <td id=\"T_3bb60_row21_col9\" class=\"data row21 col9\" >0</td>\n",
       "      <td id=\"T_3bb60_row21_col10\" class=\"data row21 col10\" >82</td>\n",
       "      <td id=\"T_3bb60_row21_col11\" class=\"data row21 col11\" >245</td>\n",
       "      <td id=\"T_3bb60_row21_col12\" class=\"data row21 col12\" >252</td>\n",
       "      <td id=\"T_3bb60_row21_col13\" class=\"data row21 col13\" >252</td>\n",
       "      <td id=\"T_3bb60_row21_col14\" class=\"data row21 col14\" >180</td>\n",
       "      <td id=\"T_3bb60_row21_col15\" class=\"data row21 col15\" >0</td>\n",
       "      <td id=\"T_3bb60_row21_col16\" class=\"data row21 col16\" >0</td>\n",
       "      <td id=\"T_3bb60_row21_col17\" class=\"data row21 col17\" >0</td>\n",
       "      <td id=\"T_3bb60_row21_col18\" class=\"data row21 col18\" >0</td>\n",
       "      <td id=\"T_3bb60_row21_col19\" class=\"data row21 col19\" >0</td>\n",
       "      <td id=\"T_3bb60_row21_col20\" class=\"data row21 col20\" >0</td>\n",
       "      <td id=\"T_3bb60_row21_col21\" class=\"data row21 col21\" >0</td>\n",
       "      <td id=\"T_3bb60_row21_col22\" class=\"data row21 col22\" >0</td>\n",
       "      <td id=\"T_3bb60_row21_col23\" class=\"data row21 col23\" >0</td>\n",
       "      <td id=\"T_3bb60_row21_col24\" class=\"data row21 col24\" >0</td>\n",
       "      <td id=\"T_3bb60_row21_col25\" class=\"data row21 col25\" >0</td>\n",
       "      <td id=\"T_3bb60_row21_col26\" class=\"data row21 col26\" >0</td>\n",
       "      <td id=\"T_3bb60_row21_col27\" class=\"data row21 col27\" >0</td>\n",
       "    </tr>\n",
       "    <tr>\n",
       "      <th id=\"T_3bb60_level0_row22\" class=\"row_heading level0 row22\" >22</th>\n",
       "      <td id=\"T_3bb60_row22_col0\" class=\"data row22 col0\" >0</td>\n",
       "      <td id=\"T_3bb60_row22_col1\" class=\"data row22 col1\" >0</td>\n",
       "      <td id=\"T_3bb60_row22_col2\" class=\"data row22 col2\" >0</td>\n",
       "      <td id=\"T_3bb60_row22_col3\" class=\"data row22 col3\" >0</td>\n",
       "      <td id=\"T_3bb60_row22_col4\" class=\"data row22 col4\" >0</td>\n",
       "      <td id=\"T_3bb60_row22_col5\" class=\"data row22 col5\" >0</td>\n",
       "      <td id=\"T_3bb60_row22_col6\" class=\"data row22 col6\" >0</td>\n",
       "      <td id=\"T_3bb60_row22_col7\" class=\"data row22 col7\" >0</td>\n",
       "      <td id=\"T_3bb60_row22_col8\" class=\"data row22 col8\" >0</td>\n",
       "      <td id=\"T_3bb60_row22_col9\" class=\"data row22 col9\" >0</td>\n",
       "      <td id=\"T_3bb60_row22_col10\" class=\"data row22 col10\" >198</td>\n",
       "      <td id=\"T_3bb60_row22_col11\" class=\"data row22 col11\" >252</td>\n",
       "      <td id=\"T_3bb60_row22_col12\" class=\"data row22 col12\" >252</td>\n",
       "      <td id=\"T_3bb60_row22_col13\" class=\"data row22 col13\" >252</td>\n",
       "      <td id=\"T_3bb60_row22_col14\" class=\"data row22 col14\" >56</td>\n",
       "      <td id=\"T_3bb60_row22_col15\" class=\"data row22 col15\" >0</td>\n",
       "      <td id=\"T_3bb60_row22_col16\" class=\"data row22 col16\" >0</td>\n",
       "      <td id=\"T_3bb60_row22_col17\" class=\"data row22 col17\" >0</td>\n",
       "      <td id=\"T_3bb60_row22_col18\" class=\"data row22 col18\" >0</td>\n",
       "      <td id=\"T_3bb60_row22_col19\" class=\"data row22 col19\" >0</td>\n",
       "      <td id=\"T_3bb60_row22_col20\" class=\"data row22 col20\" >0</td>\n",
       "      <td id=\"T_3bb60_row22_col21\" class=\"data row22 col21\" >0</td>\n",
       "      <td id=\"T_3bb60_row22_col22\" class=\"data row22 col22\" >0</td>\n",
       "      <td id=\"T_3bb60_row22_col23\" class=\"data row22 col23\" >0</td>\n",
       "      <td id=\"T_3bb60_row22_col24\" class=\"data row22 col24\" >0</td>\n",
       "      <td id=\"T_3bb60_row22_col25\" class=\"data row22 col25\" >0</td>\n",
       "      <td id=\"T_3bb60_row22_col26\" class=\"data row22 col26\" >0</td>\n",
       "      <td id=\"T_3bb60_row22_col27\" class=\"data row22 col27\" >0</td>\n",
       "    </tr>\n",
       "    <tr>\n",
       "      <th id=\"T_3bb60_level0_row23\" class=\"row_heading level0 row23\" >23</th>\n",
       "      <td id=\"T_3bb60_row23_col0\" class=\"data row23 col0\" >0</td>\n",
       "      <td id=\"T_3bb60_row23_col1\" class=\"data row23 col1\" >0</td>\n",
       "      <td id=\"T_3bb60_row23_col2\" class=\"data row23 col2\" >0</td>\n",
       "      <td id=\"T_3bb60_row23_col3\" class=\"data row23 col3\" >0</td>\n",
       "      <td id=\"T_3bb60_row23_col4\" class=\"data row23 col4\" >0</td>\n",
       "      <td id=\"T_3bb60_row23_col5\" class=\"data row23 col5\" >0</td>\n",
       "      <td id=\"T_3bb60_row23_col6\" class=\"data row23 col6\" >0</td>\n",
       "      <td id=\"T_3bb60_row23_col7\" class=\"data row23 col7\" >0</td>\n",
       "      <td id=\"T_3bb60_row23_col8\" class=\"data row23 col8\" >0</td>\n",
       "      <td id=\"T_3bb60_row23_col9\" class=\"data row23 col9\" >3</td>\n",
       "      <td id=\"T_3bb60_row23_col10\" class=\"data row23 col10\" >201</td>\n",
       "      <td id=\"T_3bb60_row23_col11\" class=\"data row23 col11\" >252</td>\n",
       "      <td id=\"T_3bb60_row23_col12\" class=\"data row23 col12\" >250</td>\n",
       "      <td id=\"T_3bb60_row23_col13\" class=\"data row23 col13\" >127</td>\n",
       "      <td id=\"T_3bb60_row23_col14\" class=\"data row23 col14\" >3</td>\n",
       "      <td id=\"T_3bb60_row23_col15\" class=\"data row23 col15\" >0</td>\n",
       "      <td id=\"T_3bb60_row23_col16\" class=\"data row23 col16\" >0</td>\n",
       "      <td id=\"T_3bb60_row23_col17\" class=\"data row23 col17\" >0</td>\n",
       "      <td id=\"T_3bb60_row23_col18\" class=\"data row23 col18\" >0</td>\n",
       "      <td id=\"T_3bb60_row23_col19\" class=\"data row23 col19\" >0</td>\n",
       "      <td id=\"T_3bb60_row23_col20\" class=\"data row23 col20\" >0</td>\n",
       "      <td id=\"T_3bb60_row23_col21\" class=\"data row23 col21\" >0</td>\n",
       "      <td id=\"T_3bb60_row23_col22\" class=\"data row23 col22\" >0</td>\n",
       "      <td id=\"T_3bb60_row23_col23\" class=\"data row23 col23\" >0</td>\n",
       "      <td id=\"T_3bb60_row23_col24\" class=\"data row23 col24\" >0</td>\n",
       "      <td id=\"T_3bb60_row23_col25\" class=\"data row23 col25\" >0</td>\n",
       "      <td id=\"T_3bb60_row23_col26\" class=\"data row23 col26\" >0</td>\n",
       "      <td id=\"T_3bb60_row23_col27\" class=\"data row23 col27\" >0</td>\n",
       "    </tr>\n",
       "    <tr>\n",
       "      <th id=\"T_3bb60_level0_row24\" class=\"row_heading level0 row24\" >24</th>\n",
       "      <td id=\"T_3bb60_row24_col0\" class=\"data row24 col0\" >0</td>\n",
       "      <td id=\"T_3bb60_row24_col1\" class=\"data row24 col1\" >0</td>\n",
       "      <td id=\"T_3bb60_row24_col2\" class=\"data row24 col2\" >0</td>\n",
       "      <td id=\"T_3bb60_row24_col3\" class=\"data row24 col3\" >0</td>\n",
       "      <td id=\"T_3bb60_row24_col4\" class=\"data row24 col4\" >0</td>\n",
       "      <td id=\"T_3bb60_row24_col5\" class=\"data row24 col5\" >0</td>\n",
       "      <td id=\"T_3bb60_row24_col6\" class=\"data row24 col6\" >0</td>\n",
       "      <td id=\"T_3bb60_row24_col7\" class=\"data row24 col7\" >0</td>\n",
       "      <td id=\"T_3bb60_row24_col8\" class=\"data row24 col8\" >0</td>\n",
       "      <td id=\"T_3bb60_row24_col9\" class=\"data row24 col9\" >56</td>\n",
       "      <td id=\"T_3bb60_row24_col10\" class=\"data row24 col10\" >252</td>\n",
       "      <td id=\"T_3bb60_row24_col11\" class=\"data row24 col11\" >250</td>\n",
       "      <td id=\"T_3bb60_row24_col12\" class=\"data row24 col12\" >124</td>\n",
       "      <td id=\"T_3bb60_row24_col13\" class=\"data row24 col13\" >0</td>\n",
       "      <td id=\"T_3bb60_row24_col14\" class=\"data row24 col14\" >0</td>\n",
       "      <td id=\"T_3bb60_row24_col15\" class=\"data row24 col15\" >0</td>\n",
       "      <td id=\"T_3bb60_row24_col16\" class=\"data row24 col16\" >0</td>\n",
       "      <td id=\"T_3bb60_row24_col17\" class=\"data row24 col17\" >0</td>\n",
       "      <td id=\"T_3bb60_row24_col18\" class=\"data row24 col18\" >0</td>\n",
       "      <td id=\"T_3bb60_row24_col19\" class=\"data row24 col19\" >0</td>\n",
       "      <td id=\"T_3bb60_row24_col20\" class=\"data row24 col20\" >0</td>\n",
       "      <td id=\"T_3bb60_row24_col21\" class=\"data row24 col21\" >0</td>\n",
       "      <td id=\"T_3bb60_row24_col22\" class=\"data row24 col22\" >0</td>\n",
       "      <td id=\"T_3bb60_row24_col23\" class=\"data row24 col23\" >0</td>\n",
       "      <td id=\"T_3bb60_row24_col24\" class=\"data row24 col24\" >0</td>\n",
       "      <td id=\"T_3bb60_row24_col25\" class=\"data row24 col25\" >0</td>\n",
       "      <td id=\"T_3bb60_row24_col26\" class=\"data row24 col26\" >0</td>\n",
       "      <td id=\"T_3bb60_row24_col27\" class=\"data row24 col27\" >0</td>\n",
       "    </tr>\n",
       "    <tr>\n",
       "      <th id=\"T_3bb60_level0_row25\" class=\"row_heading level0 row25\" >25</th>\n",
       "      <td id=\"T_3bb60_row25_col0\" class=\"data row25 col0\" >0</td>\n",
       "      <td id=\"T_3bb60_row25_col1\" class=\"data row25 col1\" >0</td>\n",
       "      <td id=\"T_3bb60_row25_col2\" class=\"data row25 col2\" >0</td>\n",
       "      <td id=\"T_3bb60_row25_col3\" class=\"data row25 col3\" >0</td>\n",
       "      <td id=\"T_3bb60_row25_col4\" class=\"data row25 col4\" >0</td>\n",
       "      <td id=\"T_3bb60_row25_col5\" class=\"data row25 col5\" >0</td>\n",
       "      <td id=\"T_3bb60_row25_col6\" class=\"data row25 col6\" >0</td>\n",
       "      <td id=\"T_3bb60_row25_col7\" class=\"data row25 col7\" >0</td>\n",
       "      <td id=\"T_3bb60_row25_col8\" class=\"data row25 col8\" >0</td>\n",
       "      <td id=\"T_3bb60_row25_col9\" class=\"data row25 col9\" >56</td>\n",
       "      <td id=\"T_3bb60_row25_col10\" class=\"data row25 col10\" >252</td>\n",
       "      <td id=\"T_3bb60_row25_col11\" class=\"data row25 col11\" >159</td>\n",
       "      <td id=\"T_3bb60_row25_col12\" class=\"data row25 col12\" >0</td>\n",
       "      <td id=\"T_3bb60_row25_col13\" class=\"data row25 col13\" >0</td>\n",
       "      <td id=\"T_3bb60_row25_col14\" class=\"data row25 col14\" >0</td>\n",
       "      <td id=\"T_3bb60_row25_col15\" class=\"data row25 col15\" >0</td>\n",
       "      <td id=\"T_3bb60_row25_col16\" class=\"data row25 col16\" >0</td>\n",
       "      <td id=\"T_3bb60_row25_col17\" class=\"data row25 col17\" >0</td>\n",
       "      <td id=\"T_3bb60_row25_col18\" class=\"data row25 col18\" >0</td>\n",
       "      <td id=\"T_3bb60_row25_col19\" class=\"data row25 col19\" >0</td>\n",
       "      <td id=\"T_3bb60_row25_col20\" class=\"data row25 col20\" >0</td>\n",
       "      <td id=\"T_3bb60_row25_col21\" class=\"data row25 col21\" >0</td>\n",
       "      <td id=\"T_3bb60_row25_col22\" class=\"data row25 col22\" >0</td>\n",
       "      <td id=\"T_3bb60_row25_col23\" class=\"data row25 col23\" >0</td>\n",
       "      <td id=\"T_3bb60_row25_col24\" class=\"data row25 col24\" >0</td>\n",
       "      <td id=\"T_3bb60_row25_col25\" class=\"data row25 col25\" >0</td>\n",
       "      <td id=\"T_3bb60_row25_col26\" class=\"data row25 col26\" >0</td>\n",
       "      <td id=\"T_3bb60_row25_col27\" class=\"data row25 col27\" >0</td>\n",
       "    </tr>\n",
       "    <tr>\n",
       "      <th id=\"T_3bb60_level0_row26\" class=\"row_heading level0 row26\" >26</th>\n",
       "      <td id=\"T_3bb60_row26_col0\" class=\"data row26 col0\" >0</td>\n",
       "      <td id=\"T_3bb60_row26_col1\" class=\"data row26 col1\" >0</td>\n",
       "      <td id=\"T_3bb60_row26_col2\" class=\"data row26 col2\" >0</td>\n",
       "      <td id=\"T_3bb60_row26_col3\" class=\"data row26 col3\" >0</td>\n",
       "      <td id=\"T_3bb60_row26_col4\" class=\"data row26 col4\" >0</td>\n",
       "      <td id=\"T_3bb60_row26_col5\" class=\"data row26 col5\" >0</td>\n",
       "      <td id=\"T_3bb60_row26_col6\" class=\"data row26 col6\" >0</td>\n",
       "      <td id=\"T_3bb60_row26_col7\" class=\"data row26 col7\" >0</td>\n",
       "      <td id=\"T_3bb60_row26_col8\" class=\"data row26 col8\" >0</td>\n",
       "      <td id=\"T_3bb60_row26_col9\" class=\"data row26 col9\" >56</td>\n",
       "      <td id=\"T_3bb60_row26_col10\" class=\"data row26 col10\" >252</td>\n",
       "      <td id=\"T_3bb60_row26_col11\" class=\"data row26 col11\" >84</td>\n",
       "      <td id=\"T_3bb60_row26_col12\" class=\"data row26 col12\" >0</td>\n",
       "      <td id=\"T_3bb60_row26_col13\" class=\"data row26 col13\" >0</td>\n",
       "      <td id=\"T_3bb60_row26_col14\" class=\"data row26 col14\" >0</td>\n",
       "      <td id=\"T_3bb60_row26_col15\" class=\"data row26 col15\" >0</td>\n",
       "      <td id=\"T_3bb60_row26_col16\" class=\"data row26 col16\" >0</td>\n",
       "      <td id=\"T_3bb60_row26_col17\" class=\"data row26 col17\" >0</td>\n",
       "      <td id=\"T_3bb60_row26_col18\" class=\"data row26 col18\" >0</td>\n",
       "      <td id=\"T_3bb60_row26_col19\" class=\"data row26 col19\" >0</td>\n",
       "      <td id=\"T_3bb60_row26_col20\" class=\"data row26 col20\" >0</td>\n",
       "      <td id=\"T_3bb60_row26_col21\" class=\"data row26 col21\" >0</td>\n",
       "      <td id=\"T_3bb60_row26_col22\" class=\"data row26 col22\" >0</td>\n",
       "      <td id=\"T_3bb60_row26_col23\" class=\"data row26 col23\" >0</td>\n",
       "      <td id=\"T_3bb60_row26_col24\" class=\"data row26 col24\" >0</td>\n",
       "      <td id=\"T_3bb60_row26_col25\" class=\"data row26 col25\" >0</td>\n",
       "      <td id=\"T_3bb60_row26_col26\" class=\"data row26 col26\" >0</td>\n",
       "      <td id=\"T_3bb60_row26_col27\" class=\"data row26 col27\" >0</td>\n",
       "    </tr>\n",
       "    <tr>\n",
       "      <th id=\"T_3bb60_level0_row27\" class=\"row_heading level0 row27\" >27</th>\n",
       "      <td id=\"T_3bb60_row27_col0\" class=\"data row27 col0\" >0</td>\n",
       "      <td id=\"T_3bb60_row27_col1\" class=\"data row27 col1\" >0</td>\n",
       "      <td id=\"T_3bb60_row27_col2\" class=\"data row27 col2\" >0</td>\n",
       "      <td id=\"T_3bb60_row27_col3\" class=\"data row27 col3\" >0</td>\n",
       "      <td id=\"T_3bb60_row27_col4\" class=\"data row27 col4\" >0</td>\n",
       "      <td id=\"T_3bb60_row27_col5\" class=\"data row27 col5\" >0</td>\n",
       "      <td id=\"T_3bb60_row27_col6\" class=\"data row27 col6\" >0</td>\n",
       "      <td id=\"T_3bb60_row27_col7\" class=\"data row27 col7\" >0</td>\n",
       "      <td id=\"T_3bb60_row27_col8\" class=\"data row27 col8\" >0</td>\n",
       "      <td id=\"T_3bb60_row27_col9\" class=\"data row27 col9\" >0</td>\n",
       "      <td id=\"T_3bb60_row27_col10\" class=\"data row27 col10\" >0</td>\n",
       "      <td id=\"T_3bb60_row27_col11\" class=\"data row27 col11\" >0</td>\n",
       "      <td id=\"T_3bb60_row27_col12\" class=\"data row27 col12\" >0</td>\n",
       "      <td id=\"T_3bb60_row27_col13\" class=\"data row27 col13\" >0</td>\n",
       "      <td id=\"T_3bb60_row27_col14\" class=\"data row27 col14\" >0</td>\n",
       "      <td id=\"T_3bb60_row27_col15\" class=\"data row27 col15\" >0</td>\n",
       "      <td id=\"T_3bb60_row27_col16\" class=\"data row27 col16\" >0</td>\n",
       "      <td id=\"T_3bb60_row27_col17\" class=\"data row27 col17\" >0</td>\n",
       "      <td id=\"T_3bb60_row27_col18\" class=\"data row27 col18\" >0</td>\n",
       "      <td id=\"T_3bb60_row27_col19\" class=\"data row27 col19\" >0</td>\n",
       "      <td id=\"T_3bb60_row27_col20\" class=\"data row27 col20\" >0</td>\n",
       "      <td id=\"T_3bb60_row27_col21\" class=\"data row27 col21\" >0</td>\n",
       "      <td id=\"T_3bb60_row27_col22\" class=\"data row27 col22\" >0</td>\n",
       "      <td id=\"T_3bb60_row27_col23\" class=\"data row27 col23\" >0</td>\n",
       "      <td id=\"T_3bb60_row27_col24\" class=\"data row27 col24\" >0</td>\n",
       "      <td id=\"T_3bb60_row27_col25\" class=\"data row27 col25\" >0</td>\n",
       "      <td id=\"T_3bb60_row27_col26\" class=\"data row27 col26\" >0</td>\n",
       "      <td id=\"T_3bb60_row27_col27\" class=\"data row27 col27\" >0</td>\n",
       "    </tr>\n",
       "  </tbody>\n",
       "</table>\n"
      ],
      "text/plain": [
       "<pandas.io.formats.style.Styler at 0x7b19c72abb50>"
      ]
     },
     "execution_count": 6,
     "metadata": {},
     "output_type": "execute_result"
    }
   ],
   "source": [
    "img_t = tensor(arr[:, :, 0])\n",
    "print(img_t.shape)\n",
    "df = pd.DataFrame(img_t)\n",
    "df.style.set_properties(**{'font-size':'6pt'}).background_gradient('Greys')"
   ]
  },
  {
   "cell_type": "markdown",
   "id": "868e4a6a",
   "metadata": {
    "papermill": {
     "duration": 0.007351,
     "end_time": "2025-05-30T11:41:43.687695",
     "exception": false,
     "start_time": "2025-05-30T11:41:43.680344",
     "status": "completed"
    },
    "tags": []
   },
   "source": [
    "In the code above:\n",
    "`arr[:,:,0]` is a common way to index into a 3-dimensional NumPy array (or a similar array-like object, such as a PyTorchtensor or PIL image array). ':' means _all elements_ along that axis.  Thus arr[:,:,0] selects all rows (:), all columns (:), and channel 0 (e.g., the red channel in the RGB image, the entire channel would be something like (0,0,0))."
   ]
  },
  {
   "cell_type": "code",
   "execution_count": 7,
   "id": "cfa42069",
   "metadata": {
    "execution": {
     "iopub.execute_input": "2025-05-30T11:41:43.704784Z",
     "iopub.status.busy": "2025-05-30T11:41:43.703748Z",
     "iopub.status.idle": "2025-05-30T11:41:43.709199Z",
     "shell.execute_reply": "2025-05-30T11:41:43.708318Z"
    },
    "papermill": {
     "duration": 0.015769,
     "end_time": "2025-05-30T11:41:43.710935",
     "exception": false,
     "start_time": "2025-05-30T11:41:43.695166",
     "status": "completed"
    },
    "tags": []
   },
   "outputs": [
    {
     "name": "stdout",
     "output_type": "stream",
     "text": [
      "(28, 28)\n",
      "(28, 28, 3)\n"
     ]
    }
   ],
   "source": [
    "# now compare the difference in shape between with or without selection of channel 0.\n",
    "print(arr[:,:,0].shape)\n",
    "print(arr[:,:,:].shape)"
   ]
  },
  {
   "cell_type": "code",
   "execution_count": 8,
   "id": "64c229b5",
   "metadata": {
    "execution": {
     "iopub.execute_input": "2025-05-30T11:41:43.728046Z",
     "iopub.status.busy": "2025-05-30T11:41:43.727325Z",
     "iopub.status.idle": "2025-05-30T11:41:43.733100Z",
     "shell.execute_reply": "2025-05-30T11:41:43.731996Z"
    },
    "papermill": {
     "duration": 0.015965,
     "end_time": "2025-05-30T11:41:43.734685",
     "exception": false,
     "start_time": "2025-05-30T11:41:43.718720",
     "status": "completed"
    },
    "tags": []
   },
   "outputs": [
    {
     "name": "stdout",
     "output_type": "stream",
     "text": [
      "[  0   3   6   7   8  12  26  27  28  32  34  41  45  50  56  59  64  67\n",
      "  76  82  83  84  86  96  99 103 105 109 117 124 127 131 135 146 154 156\n",
      " 159 167 176 179 180 182 184 188 196 197 198 201 207 212 214 217 220 233\n",
      " 239 241 245 248 249 250 251 252 253 255]\n"
     ]
    }
   ],
   "source": [
    "# Now let's take a look at the unique values in the array, \n",
    "print(np.unique(arr))"
   ]
  },
  {
   "cell_type": "markdown",
   "id": "c6b48097",
   "metadata": {
    "papermill": {
     "duration": 0.007221,
     "end_time": "2025-05-30T11:41:43.749643",
     "exception": false,
     "start_time": "2025-05-30T11:41:43.742422",
     "status": "completed"
    },
    "tags": []
   },
   "source": [
    "These values represents the grayscale image of the digit 7 you see above.  Or how computer stores the image - with only numbers!  So the task of hand-writing recoginition of digits boils down to identify the similarity between the image and the reference digit images in numerical terms.  So we will go ahead and convert all images into numerical vectors, take the average value of 3s and 7s, and use the average vector as the representation of the digit.  This is called the _vector space model_. This will be the baseline of our model.  We then use this to predict the digit of a new image, and see if the new image is more similar to 3 or 7.  This is the simplest form (and the most intuitive) of machine learning.  A discriminate reader might notice that we have converted the NumPy array into a tensor (`img_t=tensor(arr[:,:,0])`).  This is a common practice in fastai.  Fastai is built on top of PyTorch, whose models are designed to work with torch.Tensor objects.  This means that all the layers, loss functions, and optimizers in PyTorch expect their inputs and outputs to be tensors.  Tensor supports automatic differentiation (autograd), meaning PyTorch can automatically compute graients for tensors during backpropagation, whilst their counterpart NumPy array can't.  One of the important characteristics of tensor is that it supports GPU acceleration, meaning that tensors can be moved to and operated on GPUs for faster computation (tensor.cuda()), while NumPy arrays are always on the CPU."
   ]
  },
  {
   "cell_type": "code",
   "execution_count": 9,
   "id": "b5b16c78",
   "metadata": {
    "execution": {
     "iopub.execute_input": "2025-05-30T11:41:43.766721Z",
     "iopub.status.busy": "2025-05-30T11:41:43.765534Z",
     "iopub.status.idle": "2025-05-30T11:41:43.774061Z",
     "shell.execute_reply": "2025-05-30T11:41:43.772834Z"
    },
    "papermill": {
     "duration": 0.018922,
     "end_time": "2025-05-30T11:41:43.776001",
     "exception": false,
     "start_time": "2025-05-30T11:41:43.757079",
     "status": "completed"
    },
    "tags": []
   },
   "outputs": [
    {
     "data": {
      "text/plain": [
       "torch.Size([3, 28, 28])"
      ]
     },
     "execution_count": 9,
     "metadata": {},
     "output_type": "execute_result"
    }
   ],
   "source": [
    "tensor(arr).permute(2,0,1).shape"
   ]
  },
  {
   "cell_type": "markdown",
   "id": "e4847bf1",
   "metadata": {
    "papermill": {
     "duration": 0.007518,
     "end_time": "2025-05-30T11:41:43.791680",
     "exception": false,
     "start_time": "2025-05-30T11:41:43.784162",
     "status": "completed"
    },
    "tags": []
   },
   "source": [
    "The code above converts the NumPy array to a PyTorch tensor and then permutes the dimensions.  The original shape is (28, 28, 3) and after permutation, it becomes (3, 28, 28).  This is the format that PyTorch expects for images: (channels, height, width).\n",
    "\n",
    "## Baseline Images\n",
    "\n",
    "**Stacking**\n",
    "`torch.stack(seven_tensors)`: seven_tensors is a list of 2D tensors, where each tensor represents an image of digit \"7\".  Each tensor has a shape of [height, width] (28x28).\n",
    "Stacking means that we combine all these individual 2D tensors into a single 3D tensor by adding a new dimension at the beginning.  The resutig tensor has a shape of [number_of_images, height, width].  The `.mean(0)` calculates the mean along dimension 0 (the first dimension), which is the \"number_of_images\" dimension.  This effectively averages all the \"7\" images pixel by pixel, resulting in a single 2D tensor that represents the average \"7\" image."
   ]
  },
  {
   "cell_type": "code",
   "execution_count": 10,
   "id": "01047a2c",
   "metadata": {
    "execution": {
     "iopub.execute_input": "2025-05-30T11:41:43.809425Z",
     "iopub.status.busy": "2025-05-30T11:41:43.808201Z",
     "iopub.status.idle": "2025-05-30T11:41:46.268336Z",
     "shell.execute_reply": "2025-05-30T11:41:46.267378Z"
    },
    "papermill": {
     "duration": 2.470708,
     "end_time": "2025-05-30T11:41:46.270051",
     "exception": false,
     "start_time": "2025-05-30T11:41:43.799343",
     "status": "completed"
    },
    "tags": []
   },
   "outputs": [
    {
     "data": {
      "image/png": "[encoded data removed]",
      "text/plain": [
       "<Figure size 800x400 with 2 Axes>"
      ]
     },
     "metadata": {},
     "output_type": "display_data"
    }
   ],
   "source": [
    "# look at the 3 and 7 images\n",
    "three_path = train_path/'3'\n",
    "seven_path = train_path/'7'\n",
    "\n",
    "three_tensors = [tensor(Image.open(o)) for o in three_path.ls()]\n",
    "seven_tensors = [tensor(Image.open(o)) for o in seven_path.ls()]\n",
    "\n",
    "# stack all the 3s and 7s\n",
    "stacked_threes = torch.stack(three_tensors).float()/255\n",
    "stacked_sevens = torch.stack(seven_tensors).float()/255\n",
    "\n",
    "# calculate the mean of all 3s and 7s\n",
    "mean3 = stacked_threes.mean(0)\n",
    "mean7 = stacked_sevens.mean(0)\n",
    "\n",
    "# show the mean images\n",
    "plt.figure(figsize=(8, 4))\n",
    "plt.subplot(1, 2, 1) # (1, 2, 1) means that the subplot is 1 row, 2 columns, and this is the first plot (starting from upper left corner)\n",
    "plt.imshow(mean3)\n",
    "plt.title('Mean of 3s')\n",
    "plt.subplot(1, 2, 2)\n",
    "plt.imshow(mean7)\n",
    "plt.title('Mean of 7s')\n",
    "plt.tight_layout()"
   ]
  },
  {
   "cell_type": "markdown",
   "id": "90a3283d",
   "metadata": {
    "papermill": {
     "duration": 0.008311,
     "end_time": "2025-05-30T11:41:46.289217",
     "exception": false,
     "start_time": "2025-05-30T11:41:46.280906",
     "status": "completed"
    },
    "tags": []
   },
   "source": [
    "The code above calculates the mean of all 3s and 7s.  The mean image shows the average pixel values across all images of that digit.  This gives us a template of what a typical 3 and 7 look like."
   ]
  },
  {
   "cell_type": "code",
   "execution_count": 11,
   "id": "16edfb72",
   "metadata": {
    "execution": {
     "iopub.execute_input": "2025-05-30T11:41:46.308553Z",
     "iopub.status.busy": "2025-05-30T11:41:46.307227Z",
     "iopub.status.idle": "2025-05-30T11:41:46.483433Z",
     "shell.execute_reply": "2025-05-30T11:41:46.482390Z"
    },
    "papermill": {
     "duration": 0.187327,
     "end_time": "2025-05-30T11:41:46.485086",
     "exception": false,
     "start_time": "2025-05-30T11:41:46.297759",
     "status": "completed"
    },
    "tags": []
   },
   "outputs": [
    {
     "data": {
      "text/plain": [
       "<matplotlib.image.AxesImage at 0x7b19c70ef510>"
      ]
     },
     "execution_count": 11,
     "metadata": {},
     "output_type": "execute_result"
    },
    {
     "data": {
      "image/png": "[encoded data removed]",
      "text/plain": [
       "<Figure size 640x480 with 1 Axes>"
      ]
     },
     "metadata": {},
     "output_type": "display_data"
    }
   ],
   "source": [
    "# calculate the difference between the mean 3 and mean 7\n",
    "diff = mean3 - mean7\n",
    "plt.imshow(diff)"
   ]
  },
  {
   "cell_type": "markdown",
   "id": "e8323406",
   "metadata": {
    "papermill": {
     "duration": 0.008291,
     "end_time": "2025-05-30T11:41:46.502235",
     "exception": false,
     "start_time": "2025-05-30T11:41:46.493944",
     "status": "completed"
    },
    "tags": []
   },
   "source": [
    "The difference image shows where the two digits differ the most.  Bright areas indicate where 3s have higher pixel values than 7s, and dark areas indicate where 7s have higher pixel values than 3s."
   ]
  },
  {
   "cell_type": "code",
   "execution_count": 12,
   "id": "a89c1461",
   "metadata": {
    "execution": {
     "iopub.execute_input": "2025-05-30T11:41:46.521016Z",
     "iopub.status.busy": "2025-05-30T11:41:46.520659Z",
     "iopub.status.idle": "2025-05-30T11:41:48.454474Z",
     "shell.execute_reply": "2025-05-30T11:41:48.453277Z"
    },
    "papermill": {
     "duration": 1.945234,
     "end_time": "2025-05-30T11:41:48.456183",
     "exception": false,
     "start_time": "2025-05-30T11:41:46.510949",
     "status": "completed"
    },
    "tags": []
   },
   "outputs": [
    {
     "data": {
      "image/png": "[encoded data removed]",
      "text/plain": [
       "<Figure size 1000x500 with 2 Axes>"
      ]
     },
     "metadata": {},
     "output_type": "display_data"
    }
   ],
   "source": [
    "# calculate the similarity between each 3 and the mean 3, and each 3 and the mean 7\n",
    "three_similarity = [((t - mean3)**2).mean().item() for t in stacked_threes]\n",
    "three_to_seven_similarity = [((t - mean7)**2).mean().item() for t in stacked_threes]\n",
    "\n",
    "# calculate the similarity between each 7 and the mean 7, and each 7 and the mean 3\n",
    "seven_similarity = [((t - mean7)**2).mean().item() for t in stacked_sevens]\n",
    "seven_to_three_similarity = [((t - mean3)**2).mean().item() for t in stacked_sevens]\n",
    "\n",
    "# plot the similarities\n",
    "plt.figure(figsize=(10, 5))\n",
    "plt.subplot(1, 2, 1)\n",
    "plt.plot(three_similarity, label='3 to mean 3')\n",
    "plt.plot(three_to_seven_similarity, label='3 to mean 7')\n",
    "plt.legend()\n",
    "plt.title('3s: Similarity to mean 3 vs mean 7')\n",
    "\n",
    "plt.subplot(1, 2, 2)\n",
    "plt.plot(seven_similarity, label='7 to mean 7')\n",
    "plt.plot(seven_to_three_similarity, label='7 to mean 3')\n",
    "plt.legend()\n",
    "plt.title('7s: Similarity to mean 7 vs mean 3')\n",
    "plt.tight_layout()"
   ]
  },
  {
   "cell_type": "markdown",
   "id": "98c6b447",
   "metadata": {
    "papermill": {
     "duration": 0.012017,
     "end_time": "2025-05-30T11:41:48.478845",
     "exception": false,
     "start_time": "2025-05-30T11:41:48.466828",
     "status": "completed"
    },
    "tags": []
   },
   "source": [
    "\n",
    "\n",
    "**Similarity Calculation**\n",
    "`((tensor(Image.open(o)).float() - seven_avg)**2).mean()` computes the similarity between a given image `o` and the average \"7\" image.  In essence, this is the _mean squared error (MES)_ between each \"7\" images and the average \"7\" image.  Lower MSE indicates higher similarity.  MSE is a common metric used to measure the similarity (or differences) between predicted value and actual value.  It says that we apply the square to the difference (which may be positive or negative), the apply the square root to take the effect of square away.  But in this process, we turn the differences to only positive values.\n",
    "\n",
    "**Plot**\n",
    "- The y-axis represents the MSE.\n",
    "- The x-axis represents the index of the image in the dataset.\n",
    "- This plot shows that each \"3\" image has a lower MSE with the average \"3\" than with the average \"7\".\n",
    "- **Note** we didn't scale the y-axis in order to visualize the differences more clearly."
   ]
  },
  {
   "cell_type": "markdown",
   "id": "c9618e51",
   "metadata": {
    "papermill": {
     "duration": 0.009771,
     "end_time": "2025-05-30T11:41:48.498395",
     "exception": false,
     "start_time": "2025-05-30T11:41:48.488624",
     "status": "completed"
    },
    "tags": []
   },
   "source": [
    "## Training a Neural Network on fullset of MNIST\n",
    "\n",
    "Now that we've explored the MNIST dataset and understood its structure, let's train a neural network to classify the digits. We'll use the full MNIST dataset instead of just the sample we've been working with."
   ]
  },
  {
   "cell_type": "code",
   "execution_count": 13,
   "id": "da484da6",
   "metadata": {
    "execution": {
     "iopub.execute_input": "2025-05-30T11:41:48.519234Z",
     "iopub.status.busy": "2025-05-30T11:41:48.518901Z",
     "iopub.status.idle": "2025-05-30T11:42:05.898323Z",
     "shell.execute_reply": "2025-05-30T11:42:05.897198Z"
    },
    "papermill": {
     "duration": 17.392166,
     "end_time": "2025-05-30T11:42:05.900250",
     "exception": false,
     "start_time": "2025-05-30T11:41:48.508084",
     "status": "completed"
    },
    "tags": []
   },
   "outputs": [
    {
     "data": {
      "text/html": [
       "\n",
       "<style>\n",
       "    /* Turns off some styling */\n",
       "    progress {\n",
       "        /* gets rid of default border in Firefox and Opera. */\n",
       "        border: none;\n",
       "        /* Needs to be in here for Safari polyfill so background images work as expected. */\n",
       "        background-size: auto;\n",
       "    }\n",
       "    progress:not([value]), progress:not([value])::-webkit-progress-bar {\n",
       "        background: repeating-linear-gradient(45deg, #7e7e7e, #7e7e7e 10px, #5c5c5c 10px, #5c5c5c 20px);\n",
       "    }\n",
       "    .progress-bar-interrupted, .progress-bar-interrupted::-webkit-progress-bar {\n",
       "        background: #F44336;\n",
       "    }\n",
       "</style>\n"
      ],
      "text/plain": [
       "<IPython.core.display.HTML object>"
      ]
     },
     "metadata": {},
     "output_type": "display_data"
    },
    {
     "data": {
      "text/html": [
       "\n",
       "    <div>\n",
       "      <progress value='15687680' class='' max='15683414' style='width:300px; height:20px; vertical-align: middle;'></progress>\n",
       "      100.03% [15687680/15683414 00:00&lt;00:00]\n",
       "    </div>\n",
       "    "
      ],
      "text/plain": [
       "<IPython.core.display.HTML object>"
      ]
     },
     "metadata": {},
     "output_type": "display_data"
    },
    {
     "data": {
      "text/plain": [
       "Path('/root/.fastai/data/mnist_png')"
      ]
     },
     "execution_count": 13,
     "metadata": {},
     "output_type": "execute_result"
    }
   ],
   "source": [
    "# Download the full MNIST dataset\n",
    "path = untar_data(URLs.MNIST)\n",
    "path"
   ]
  },
  {
   "cell_type": "code",
   "execution_count": 14,
   "id": "b964f747",
   "metadata": {
    "execution": {
     "iopub.execute_input": "2025-05-30T11:42:05.923108Z",
     "iopub.status.busy": "2025-05-30T11:42:05.922230Z",
     "iopub.status.idle": "2025-05-30T11:42:05.930855Z",
     "shell.execute_reply": "2025-05-30T11:42:05.929785Z"
    },
    "papermill": {
     "duration": 0.021906,
     "end_time": "2025-05-30T11:42:05.932561",
     "exception": false,
     "start_time": "2025-05-30T11:42:05.910655",
     "status": "completed"
    },
    "tags": []
   },
   "outputs": [],
   "source": [
    "# create a DataBlock for the MNIST dataset\n",
    "mnist = DataBlock(\n",
    "    blocks=(ImageBlock(cls=PILImageBW), CategoryBlock), \n",
    "    get_items=get_image_files, \n",
    "    splitter=GrandparentSplitter(train_name='training', valid_name='testing'),\n",
    "    get_y=parent_label,\n",
    "    batch_tfms=Normalize()\n",
    ")"
   ]
  },
  {
   "cell_type": "markdown",
   "id": "bdfdf454",
   "metadata": {
    "papermill": {
     "duration": 0.011486,
     "end_time": "2025-05-30T11:42:05.954252",
     "exception": false,
     "start_time": "2025-05-30T11:42:05.942766",
     "status": "completed"
    },
    "tags": []
   },
   "source": [
    "### DataBlock\n",
    "A fastai DataBlock is a high-level API abstraction for data processing, like a data pipeline.  It takes the raw dataset and prepare it to train machine learning models.  There is a a lot of logic underneath this process.  First you need to specify how to get the data (file path for example).  Then you need to specify how they should be labeled; what transformations to apply (e.g., resizing, augmentataion); how to split the data (training/validation) and finally what types of inputs/outputs are involved.  So our code snippet above defines:\n",
    "\n",
    "1. `blocks=(ImageBlock(cls=PILImageBW), CategoryBlock)` specifies that inputs are black and white images (PILImageBW) and the outputs are categories (digits 0-9).\n",
    "2. `get_items=get_image_files` gets all image files from our path.\n",
    "3. `splitter=GrandparentSplitter(train_name='training', valid_name='testing')` splits the data based on the grandparent directory name. In the MNIST dataset, the structure is `path/training/digit/image.jpg` and `path/testing/digit/image.jpg`.\n",
    "4. `get_y=parent_label` gets the label (digit) from the parent directory name.\n",
    "5. `batch_tfms=Normalize()`: This normalizes our images to have zero mean and unit variance, which helps with training."
   ]
  },
  {
   "cell_type": "code",
   "execution_count": 15,
   "id": "42c1375d",
   "metadata": {
    "execution": {
     "iopub.execute_input": "2025-05-30T11:42:05.984176Z",
     "iopub.status.busy": "2025-05-30T11:42:05.983418Z",
     "iopub.status.idle": "2025-05-30T11:42:11.057949Z",
     "shell.execute_reply": "2025-05-30T11:42:11.056933Z"
    },
    "papermill": {
     "duration": 5.092095,
     "end_time": "2025-05-30T11:42:11.059743",
     "exception": false,
     "start_time": "2025-05-30T11:42:05.967648",
     "status": "completed"
    },
    "tags": []
   },
   "outputs": [
    {
     "data": {
      "image/png": "[encoded data removed]",
      "text/plain": [
       "<Figure size 400x400 with 9 Axes>"
      ]
     },
     "metadata": {},
     "output_type": "display_data"
    }
   ],
   "source": [
    "# create the DataLoaders\n",
    "dls = mnist.dataloaders(path, bs=64) #bs is batch size\n",
    "\n",
    "# show a random batch (sample) of images\n",
    "dls.show_batch(max_n=9, figsize=(4,4))"
   ]
  },
  {
   "cell_type": "markdown",
   "id": "0cc5bb67",
   "metadata": {
    "papermill": {
     "duration": 0.010986,
     "end_time": "2025-05-30T11:42:11.081428",
     "exception": false,
     "start_time": "2025-05-30T11:42:11.070442",
     "status": "completed"
    },
    "tags": []
   },
   "source": [
    "Now let's create and train a convolutional neural network (CNN) for digit classification.  This model is designed specifically for single-channel grayscale images.  We will not get too deep into CNN for now.  We will have a separate tutorial dedicated to CNN."
   ]
  },
  {
   "cell_type": "code",
   "execution_count": 16,
   "id": "2c4fec05",
   "metadata": {
    "execution": {
     "iopub.execute_input": "2025-05-30T11:42:11.103996Z",
     "iopub.status.busy": "2025-05-30T11:42:11.103189Z",
     "iopub.status.idle": "2025-05-30T11:42:11.117345Z",
     "shell.execute_reply": "2025-05-30T11:42:11.116247Z"
    },
    "papermill": {
     "duration": 0.026781,
     "end_time": "2025-05-30T11:42:11.118869",
     "exception": false,
     "start_time": "2025-05-30T11:42:11.092088",
     "status": "completed"
    },
    "tags": []
   },
   "outputs": [
    {
     "name": "stdout",
     "output_type": "stream",
     "text": [
      "Model structure:\n",
      "MnistCNN(\n",
      "  (conv1): Conv2d(1, 16, kernel_size=(3, 3), stride=(1, 1), padding=(1, 1))\n",
      "  (relu1): ReLU()\n",
      "  (pool1): MaxPool2d(kernel_size=2, stride=2, padding=0, dilation=1, ceil_mode=False)\n",
      "  (conv2): Conv2d(16, 32, kernel_size=(3, 3), stride=(1, 1), padding=(1, 1))\n",
      "  (relu2): ReLU()\n",
      "  (pool2): MaxPool2d(kernel_size=2, stride=2, padding=0, dilation=1, ceil_mode=False)\n",
      "  (conv3): Conv2d(32, 64, kernel_size=(3, 3), stride=(1, 1), padding=(1, 1))\n",
      "  (relu3): ReLU()\n",
      "  (pool3): MaxPool2d(kernel_size=2, stride=2, padding=0, dilation=1, ceil_mode=False)\n",
      "  (fc1): Linear(in_features=576, out_features=128, bias=True)\n",
      "  (relu4): ReLU()\n",
      "  (fc2): Linear(in_features=128, out_features=10, bias=True)\n",
      ")\n"
     ]
    }
   ],
   "source": [
    "# create a simple custom CNN model for MNIST\n",
    "class MnistCNN(nn.Module):\n",
    "    def __init__(self):\n",
    "        super().__init__()\n",
    "        # input: 1 channel (grayscale), Output: 16 feature maps\n",
    "        self.conv1 = nn.Conv2d(1, 16, kernel_size=3, stride=1, padding=1)\n",
    "        self.relu1 = nn.ReLU()\n",
    "        self.pool1 = nn.MaxPool2d(kernel_size=2)\n",
    "        \n",
    "        # input: 16 channels, Output: 32 feature maps\n",
    "        self.conv2 = nn.Conv2d(16, 32, kernel_size=3, stride=1, padding=1)\n",
    "        self.relu2 = nn.ReLU()\n",
    "        self.pool2 = nn.MaxPool2d(kernel_size=2)\n",
    "        \n",
    "        # input: 32 channels, Output: 64 feature maps\n",
    "        self.conv3 = nn.Conv2d(32, 64, kernel_size=3, stride=1, padding=1)\n",
    "        self.relu3 = nn.ReLU()\n",
    "        self.pool3 = nn.MaxPool2d(kernel_size=2)\n",
    "        \n",
    "        # fully connected layers\n",
    "        # after 3 pooling layers of factor 2, the 28x28 image is reduced to 3x3\n",
    "        self.fc1 = nn.Linear(64 * 3 * 3, 128)\n",
    "        self.relu4 = nn.ReLU()\n",
    "        self.fc2 = nn.Linear(128, 10)  # 10 classes for digits 0-9\n",
    "    \n",
    "    def forward(self, x):\n",
    "        x = self.pool1(self.relu1(self.conv1(x)))\n",
    "        x = self.pool2(self.relu2(self.conv2(x)))\n",
    "        x = self.pool3(self.relu3(self.conv3(x)))\n",
    "        \n",
    "        # flatten the output for the fully connected layers\n",
    "        x = x.view(x.size(0), -1)\n",
    "        x = self.relu4(self.fc1(x))\n",
    "        x = self.fc2(x)\n",
    "        return x\n",
    "\n",
    "# create a custom model\n",
    "model = MnistCNN()\n",
    "\n",
    "# create a learner with our custom CNN model\n",
    "learn = Learner(dls, model, loss_func=nn.CrossEntropyLoss(), metrics=accuracy)\n",
    "\n",
    "# print the model structure to understand it better\n",
    "print(\"Model structure:\")\n",
    "print(learn.model)"
   ]
  },
  {
   "cell_type": "code",
   "execution_count": 17,
   "id": "87f3eb0d",
   "metadata": {
    "execution": {
     "iopub.execute_input": "2025-05-30T11:42:11.141405Z",
     "iopub.status.busy": "2025-05-30T11:42:11.140732Z",
     "iopub.status.idle": "2025-05-30T11:43:50.335280Z",
     "shell.execute_reply": "2025-05-30T11:43:50.334071Z"
    },
    "papermill": {
     "duration": 99.207753,
     "end_time": "2025-05-30T11:43:50.337152",
     "exception": false,
     "start_time": "2025-05-30T11:42:11.129399",
     "status": "completed"
    },
    "tags": []
   },
   "outputs": [
    {
     "data": {
      "text/html": [
       "\n",
       "<style>\n",
       "    /* Turns off some styling */\n",
       "    progress {\n",
       "        /* gets rid of default border in Firefox and Opera. */\n",
       "        border: none;\n",
       "        /* Needs to be in here for Safari polyfill so background images work as expected. */\n",
       "        background-size: auto;\n",
       "    }\n",
       "    progress:not([value]), progress:not([value])::-webkit-progress-bar {\n",
       "        background: repeating-linear-gradient(45deg, #7e7e7e, #7e7e7e 10px, #5c5c5c 10px, #5c5c5c 20px);\n",
       "    }\n",
       "    .progress-bar-interrupted, .progress-bar-interrupted::-webkit-progress-bar {\n",
       "        background: #F44336;\n",
       "    }\n",
       "</style>\n"
      ],
      "text/plain": [
       "<IPython.core.display.HTML object>"
      ]
     },
     "metadata": {},
     "output_type": "display_data"
    },
    {
     "data": {
      "text/html": [
       "<table border=\"1\" class=\"dataframe\">\n",
       "  <thead>\n",
       "    <tr style=\"text-align: left;\">\n",
       "      <th>epoch</th>\n",
       "      <th>train_loss</th>\n",
       "      <th>valid_loss</th>\n",
       "      <th>accuracy</th>\n",
       "      <th>time</th>\n",
       "    </tr>\n",
       "  </thead>\n",
       "  <tbody>\n",
       "    <tr>\n",
       "      <td>0</td>\n",
       "      <td>0.093505</td>\n",
       "      <td>0.065569</td>\n",
       "      <td>0.978400</td>\n",
       "      <td>00:50</td>\n",
       "    </tr>\n",
       "  </tbody>\n",
       "</table>"
      ],
      "text/plain": [
       "<IPython.core.display.HTML object>"
      ]
     },
     "metadata": {},
     "output_type": "display_data"
    },
    {
     "data": {
      "text/html": [
       "\n",
       "<style>\n",
       "    /* Turns off some styling */\n",
       "    progress {\n",
       "        /* gets rid of default border in Firefox and Opera. */\n",
       "        border: none;\n",
       "        /* Needs to be in here for Safari polyfill so background images work as expected. */\n",
       "        background-size: auto;\n",
       "    }\n",
       "    progress:not([value]), progress:not([value])::-webkit-progress-bar {\n",
       "        background: repeating-linear-gradient(45deg, #7e7e7e, #7e7e7e 10px, #5c5c5c 10px, #5c5c5c 20px);\n",
       "    }\n",
       "    .progress-bar-interrupted, .progress-bar-interrupted::-webkit-progress-bar {\n",
       "        background: #F44336;\n",
       "    }\n",
       "</style>\n"
      ],
      "text/plain": [
       "<IPython.core.display.HTML object>"
      ]
     },
     "metadata": {},
     "output_type": "display_data"
    },
    {
     "data": {
      "text/html": [
       "<table border=\"1\" class=\"dataframe\">\n",
       "  <thead>\n",
       "    <tr style=\"text-align: left;\">\n",
       "      <th>epoch</th>\n",
       "      <th>train_loss</th>\n",
       "      <th>valid_loss</th>\n",
       "      <th>accuracy</th>\n",
       "      <th>time</th>\n",
       "    </tr>\n",
       "  </thead>\n",
       "  <tbody>\n",
       "    <tr>\n",
       "      <td>0</td>\n",
       "      <td>0.033429</td>\n",
       "      <td>0.026637</td>\n",
       "      <td>0.991600</td>\n",
       "      <td>00:49</td>\n",
       "    </tr>\n",
       "  </tbody>\n",
       "</table>"
      ],
      "text/plain": [
       "<IPython.core.display.HTML object>"
      ]
     },
     "metadata": {},
     "output_type": "display_data"
    }
   ],
   "source": [
    "# train the model for 1 epochs\n",
    "learn.fine_tune(1)"
   ]
  },
  {
   "cell_type": "markdown",
   "id": "797f32d9",
   "metadata": {
    "papermill": {
     "duration": 0.011054,
     "end_time": "2025-05-30T11:43:50.435150",
     "exception": false,
     "start_time": "2025-05-30T11:43:50.424096",
     "status": "completed"
    },
    "tags": []
   },
   "source": [
    "## Model Evaluation\n",
    "Let's examine the model's performance on the **validation** set:"
   ]
  },
  {
   "cell_type": "code",
   "execution_count": 18,
   "id": "041aad74",
   "metadata": {
    "execution": {
     "iopub.execute_input": "2025-05-30T11:43:50.460710Z",
     "iopub.status.busy": "2025-05-30T11:43:50.459587Z",
     "iopub.status.idle": "2025-05-30T11:43:57.155785Z",
     "shell.execute_reply": "2025-05-30T11:43:57.154665Z"
    },
    "papermill": {
     "duration": 6.711451,
     "end_time": "2025-05-30T11:43:57.157674",
     "exception": false,
     "start_time": "2025-05-30T11:43:50.446223",
     "status": "completed"
    },
    "tags": []
   },
   "outputs": [
    {
     "data": {
      "text/html": [
       "\n",
       "<style>\n",
       "    /* Turns off some styling */\n",
       "    progress {\n",
       "        /* gets rid of default border in Firefox and Opera. */\n",
       "        border: none;\n",
       "        /* Needs to be in here for Safari polyfill so background images work as expected. */\n",
       "        background-size: auto;\n",
       "    }\n",
       "    progress:not([value]), progress:not([value])::-webkit-progress-bar {\n",
       "        background: repeating-linear-gradient(45deg, #7e7e7e, #7e7e7e 10px, #5c5c5c 10px, #5c5c5c 20px);\n",
       "    }\n",
       "    .progress-bar-interrupted, .progress-bar-interrupted::-webkit-progress-bar {\n",
       "        background: #F44336;\n",
       "    }\n",
       "</style>\n"
      ],
      "text/plain": [
       "<IPython.core.display.HTML object>"
      ]
     },
     "metadata": {},
     "output_type": "display_data"
    },
    {
     "data": {
      "text/html": [],
      "text/plain": [
       "<IPython.core.display.HTML object>"
      ]
     },
     "metadata": {},
     "output_type": "display_data"
    },
    {
     "data": {
      "image/png": "[encoded data removed]",
      "text/plain": [
       "<Figure size 500x400 with 2 Axes>"
      ]
     },
     "metadata": {},
     "output_type": "display_data"
    }
   ],
   "source": [
    "# get predictions\n",
    "preds, targets = learn.get_preds()\n",
    "pred_classes = preds.argmax(dim=1)\n",
    "\n",
    "# create confusion matrix\n",
    "from sklearn.metrics import confusion_matrix\n",
    "import matplotlib.pyplot as plt\n",
    "import seaborn as sns\n",
    "\n",
    "cm = confusion_matrix(targets, pred_classes)\n",
    "plt.figure(figsize=(5, 4))\n",
    "sns.heatmap(cm, annot=True, fmt='d', cmap='Blues')\n",
    "plt.xlabel('Predicted')\n",
    "plt.ylabel('Actual')\n",
    "plt.title('Confusion Matrix')\n",
    "plt.show()"
   ]
  },
  {
   "cell_type": "markdown",
   "id": "3b3f407a",
   "metadata": {
    "papermill": {
     "duration": 0.011854,
     "end_time": "2025-05-30T11:43:57.181779",
     "exception": false,
     "start_time": "2025-05-30T11:43:57.169925",
     "status": "completed"
    },
    "tags": []
   },
   "source": [
    "## Making Predictions\n",
    "\n",
    "Now let's use our trained model to make predictions on some test images:"
   ]
  },
  {
   "cell_type": "code",
   "execution_count": 19,
   "id": "144dea0c",
   "metadata": {
    "execution": {
     "iopub.execute_input": "2025-05-30T11:43:57.207423Z",
     "iopub.status.busy": "2025-05-30T11:43:57.206826Z",
     "iopub.status.idle": "2025-05-30T11:43:57.943868Z",
     "shell.execute_reply": "2025-05-30T11:43:57.942755Z"
    },
    "papermill": {
     "duration": 0.752029,
     "end_time": "2025-05-30T11:43:57.945788",
     "exception": false,
     "start_time": "2025-05-30T11:43:57.193759",
     "status": "completed"
    },
    "tags": []
   },
   "outputs": [
    {
     "data": {
      "text/html": [
       "\n",
       "<style>\n",
       "    /* Turns off some styling */\n",
       "    progress {\n",
       "        /* gets rid of default border in Firefox and Opera. */\n",
       "        border: none;\n",
       "        /* Needs to be in here for Safari polyfill so background images work as expected. */\n",
       "        background-size: auto;\n",
       "    }\n",
       "    progress:not([value]), progress:not([value])::-webkit-progress-bar {\n",
       "        background: repeating-linear-gradient(45deg, #7e7e7e, #7e7e7e 10px, #5c5c5c 10px, #5c5c5c 20px);\n",
       "    }\n",
       "    .progress-bar-interrupted, .progress-bar-interrupted::-webkit-progress-bar {\n",
       "        background: #F44336;\n",
       "    }\n",
       "</style>\n"
      ],
      "text/plain": [
       "<IPython.core.display.HTML object>"
      ]
     },
     "metadata": {},
     "output_type": "display_data"
    },
    {
     "data": {
      "text/html": [],
      "text/plain": [
       "<IPython.core.display.HTML object>"
      ]
     },
     "metadata": {},
     "output_type": "display_data"
    },
    {
     "data": {
      "image/png": "[encoded data removed]",
      "text/plain": [
       "<Figure size 600x300 with 10 Axes>"
      ]
     },
     "metadata": {},
     "output_type": "display_data"
    }
   ],
   "source": [
    "# get some test images\n",
    "test_files = get_image_files(path/'testing')\n",
    "# take 9 random sample images\n",
    "random_test_files = random.sample(test_files, 10)\n",
    "\n",
    "test_dl = learn.dls.test_dl(random_test_files)\n",
    "\n",
    "# make predictions\n",
    "preds, _ = learn.get_preds(dl=test_dl)\n",
    "pred_classes = preds.argmax(dim=1)\n",
    "\n",
    "# Display the images and predictions\n",
    "fig, axes = plt.subplots(2, 5, figsize=(6, 3))\n",
    "axes = axes.flatten()\n",
    "\n",
    "for i, (img_file, pred) in enumerate(zip(random_test_files, pred_classes)):\n",
    "    img = PILImage.create(img_file)\n",
    "    axes[i].imshow(img, cmap='gray')\n",
    "    axes[i].set_title(f\"Predicted: {pred.item()}\")\n",
    "    axes[i].axis('off')\n",
    "\n",
    "plt.tight_layout()\n",
    "plt.show()"
   ]
  },
  {
   "cell_type": "markdown",
   "id": "c7119fdb",
   "metadata": {
    "papermill": {
     "duration": 0.012877,
     "end_time": "2025-05-30T11:43:57.970989",
     "exception": false,
     "start_time": "2025-05-30T11:43:57.958112",
     "status": "completed"
    },
    "tags": []
   },
   "source": [
    "## Comparing with Our Template Matching Approach\n",
    "\n",
    "Earlier, we used a template matching approach with MSE to distinguish between digits 3 and 7. Let's compare the performance of our neural network with that approach:"
   ]
  },
  {
   "cell_type": "code",
   "execution_count": 20,
   "id": "49e36b99",
   "metadata": {
    "execution": {
     "iopub.execute_input": "2025-05-30T11:43:57.998260Z",
     "iopub.status.busy": "2025-05-30T11:43:57.997931Z",
     "iopub.status.idle": "2025-05-30T11:43:58.283815Z",
     "shell.execute_reply": "2025-05-30T11:43:58.282417Z"
    },
    "papermill": {
     "duration": 0.301566,
     "end_time": "2025-05-30T11:43:58.285663",
     "exception": false,
     "start_time": "2025-05-30T11:43:57.984097",
     "status": "completed"
    },
    "tags": []
   },
   "outputs": [
    {
     "data": {
      "text/html": [
       "\n",
       "<style>\n",
       "    /* Turns off some styling */\n",
       "    progress {\n",
       "        /* gets rid of default border in Firefox and Opera. */\n",
       "        border: none;\n",
       "        /* Needs to be in here for Safari polyfill so background images work as expected. */\n",
       "        background-size: auto;\n",
       "    }\n",
       "    progress:not([value]), progress:not([value])::-webkit-progress-bar {\n",
       "        background: repeating-linear-gradient(45deg, #7e7e7e, #7e7e7e 10px, #5c5c5c 10px, #5c5c5c 20px);\n",
       "    }\n",
       "    .progress-bar-interrupted, .progress-bar-interrupted::-webkit-progress-bar {\n",
       "        background: #F44336;\n",
       "    }\n",
       "</style>\n"
      ],
      "text/plain": [
       "<IPython.core.display.HTML object>"
      ]
     },
     "metadata": {},
     "output_type": "display_data"
    },
    {
     "data": {
      "text/html": [],
      "text/plain": [
       "<IPython.core.display.HTML object>"
      ]
     },
     "metadata": {},
     "output_type": "display_data"
    },
    {
     "name": "stdout",
     "output_type": "stream",
     "text": [
      "Neural Network Accuracy on 3s and 7s: 1.0000\n"
     ]
    }
   ],
   "source": [
    "# get all test images of 3 and 7\n",
    "test_3_files = get_image_files(path/'testing'/'3')\n",
    "test_7_files = get_image_files(path/'testing'/'7')\n",
    "\n",
    "# create a test dataset with only 3s and 7s\n",
    "test_files_3_7 = test_3_files[:50] + test_7_files[:50]\n",
    "test_dl_3_7 = learn.dls.test_dl(test_files_3_7)\n",
    "\n",
    "# make predictions\n",
    "preds, _ = learn.get_preds(dl=test_dl_3_7)\n",
    "pred_classes = preds.argmax(dim=1)\n",
    "\n",
    "# calculate accuracy for 3s and 7s\n",
    "true_labels = torch.tensor([3] * 50 + [7] * 50)\n",
    "correct = (pred_classes == true_labels).float().mean()\n",
    "print(f\"Neural Network Accuracy on 3s and 7s: {correct.item():.4f}\")"
   ]
  },
  {
   "cell_type": "markdown",
   "id": "c2995f10",
   "metadata": {
    "papermill": {
     "duration": 0.012909,
     "end_time": "2025-05-30T11:43:58.311892",
     "exception": false,
     "start_time": "2025-05-30T11:43:58.298983",
     "status": "completed"
    },
    "tags": []
   },
   "source": [
    "## Visualizing Feature Maps\n",
    "\n",
    "Let's visualize what features our CNN is learning by examining the activations of the first convolutional layer:"
   ]
  },
  {
   "cell_type": "code",
   "execution_count": 21,
   "id": "98a55b6b",
   "metadata": {
    "execution": {
     "iopub.execute_input": "2025-05-30T11:43:58.339881Z",
     "iopub.status.busy": "2025-05-30T11:43:58.339528Z",
     "iopub.status.idle": "2025-05-30T11:44:01.011225Z",
     "shell.execute_reply": "2025-05-30T11:44:01.009976Z"
    },
    "papermill": {
     "duration": 2.68797,
     "end_time": "2025-05-30T11:44:01.013072",
     "exception": false,
     "start_time": "2025-05-30T11:43:58.325102",
     "status": "completed"
    },
    "tags": []
   },
   "outputs": [
    {
     "data": {
      "image/png": "[encoded data removed]",
      "text/plain": [
       "<Figure size 1000x1000 with 16 Axes>"
      ]
     },
     "metadata": {},
     "output_type": "display_data"
    },
    {
     "data": {
      "image/png": "[encoded data removed]",
      "text/plain": [
       "<Figure size 1000x1000 with 16 Axes>"
      ]
     },
     "metadata": {},
     "output_type": "display_data"
    }
   ],
   "source": [
    "# get a batch of images\n",
    "x, y = dls.one_batch()\n",
    "\n",
    "# get the first convolutional layer from our custom model\n",
    "#gFor our custom MnistCNN model, we can directly access the conv1 attribute\n",
    "conv1 = learn.model.conv1\n",
    "\n",
    "# apply the first conv layer to get activations\n",
    "with torch.no_grad():\n",
    "    activations = conv1(x)\n",
    "\n",
    "# visualize the activations for the first image\n",
    "# our custom model has 16 filters in the first layer\n",
    "fig, axes = plt.subplots(4, 4, figsize=(10, 10))\n",
    "axes = axes.flatten()\n",
    "\n",
    "# show the original image\n",
    "axes[0].imshow(x[0][0].cpu(), cmap='gray')\n",
    "axes[0].set_title(f\"Original Image: {y[0].item()}\")\n",
    "axes[0].axis('off')\n",
    "\n",
    "# show the activation maps for the first 15 filters\n",
    "for i in range(1, 16):\n",
    "    axes[i].imshow(activations[0, i-1].detach().cpu(), cmap='viridis')\n",
    "    axes[i].set_title(f\"Filter {i}\")\n",
    "    axes[i].axis('off')\n",
    "\n",
    "plt.tight_layout()\n",
    "plt.show()\n",
    "\n",
    "# also visualize the filter weights\n",
    "weights = conv1.weight.data.cpu()\n",
    "fig, axes = plt.subplots(4, 4, figsize=(10, 10))\n",
    "axes = axes.flatten()\n",
    "\n",
    "# show the original image again\n",
    "axes[0].imshow(x[0][0].cpu(), cmap='gray')\n",
    "axes[0].set_title(f\"Original Image: {y[0].item()}\")\n",
    "axes[0].axis('off')\n",
    "\n",
    "# show the weights for the first 15 filters\n",
    "for i in range(1, 16):\n",
    "    # Each filter has only one input channel (grayscale)\n",
    "    axes[i].imshow(weights[i-1, 0], cmap='viridis')\n",
    "    axes[i].set_title(f\"Filter {i} Weights\")\n",
    "    axes[i].axis('off')\n",
    "\n",
    "plt.tight_layout()\n",
    "plt.show()"
   ]
  },
  {
   "cell_type": "markdown",
   "id": "fd6f14c1",
   "metadata": {
    "papermill": {
     "duration": 0.014122,
     "end_time": "2025-05-30T11:44:01.041980",
     "exception": false,
     "start_time": "2025-05-30T11:44:01.027858",
     "status": "completed"
    },
    "tags": []
   },
   "source": [
    "## Conclusion\n",
    "\n",
    "In this notebook, we've explored the MNIST dataset in depth and trained a convolutional neural network to classify handwritten digits. We've seen how the model performs and visualized some of its internal representations.\n",
    "\n",
    "Key takeaways:\n",
    "1. Neural networks can achieve high accuracy on digit classification tasks.\n",
    "2. The first layers of a CNN learn simple features like edges and textures.\n",
    "3. The template matching approach we explored earlier is much simpler but less accurate than a full neural network.\n",
    "4. fastai makes it easy to build, train, and interpret deep learning models."
   ]
  }
 ],
 "metadata": {
  "kaggle": {
   "accelerator": "none",
   "dataSources": [],
   "isGpuEnabled": false,
   "isInternetEnabled": true,
   "language": "python",
   "sourceType": "notebook"
  },
  "kernelspec": {
   "display_name": "ml_study",
   "language": "python",
   "name": "python3"
  },
  "language_info": {
   "codemirror_mode": {
    "name": "ipython",
    "version": 3
   },
   "file_extension": ".py",
   "mimetype": "text/x-python",
   "name": "python",
   "nbconvert_exporter": "python",
   "pygments_lexer": "ipython3",
   "version": "3.11.11"
  },
  "papermill": {
   "default_parameters": {},
   "duration": 173.50975,
   "end_time": "2025-05-30T11:44:03.974069",
   "environment_variables": {},
   "exception": null,
   "input_path": "__notebook__.ipynb",
   "output_path": "__notebook__.ipynb",
   "parameters": {},
   "start_time": "2025-05-30T11:41:10.464319",
   "version": "2.6.0"
  }
 },
 "nbformat": 4,
 "nbformat_minor": 5
}
